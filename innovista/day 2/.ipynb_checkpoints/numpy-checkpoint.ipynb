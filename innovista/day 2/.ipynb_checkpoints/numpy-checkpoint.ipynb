{
 "cells": [
  {
   "cell_type": "code",
   "execution_count": 1,
   "id": "34a73fef-b292-46a1-96d0-77b098e85a4b",
   "metadata": {},
   "outputs": [],
   "source": [
    "import numpy as np"
   ]
  },
  {
   "cell_type": "code",
   "execution_count": 3,
   "id": "56f2fb47-0fac-4298-b067-517b491c8d72",
   "metadata": {},
   "outputs": [],
   "source": [
    "x = np.arange(16)"
   ]
  },
  {
   "cell_type": "code",
   "execution_count": 4,
   "id": "007f4a0c-4d0d-432f-a766-2aafefb8ebae",
   "metadata": {},
   "outputs": [
    {
     "data": {
      "text/plain": [
       "array([ 0,  1,  2,  3,  4,  5,  6,  7,  8,  9, 10, 11, 12, 13, 14, 15])"
      ]
     },
     "execution_count": 4,
     "metadata": {},
     "output_type": "execute_result"
    }
   ],
   "source": [
    "x"
   ]
  },
  {
   "cell_type": "code",
   "execution_count": 5,
   "id": "c6689561-04fc-49be-bb34-5912e5f4f323",
   "metadata": {},
   "outputs": [
    {
     "data": {
      "text/plain": [
       "numpy.ndarray"
      ]
     },
     "execution_count": 5,
     "metadata": {},
     "output_type": "execute_result"
    }
   ],
   "source": [
    "type(x)"
   ]
  },
  {
   "cell_type": "code",
   "execution_count": 6,
   "id": "21954555-8e75-4333-bb1e-6461c9ad9799",
   "metadata": {},
   "outputs": [
    {
     "data": {
      "text/plain": [
       "16"
      ]
     },
     "execution_count": 6,
     "metadata": {},
     "output_type": "execute_result"
    }
   ],
   "source": [
    "x.size"
   ]
  },
  {
   "cell_type": "code",
   "execution_count": 7,
   "id": "b548221e-b4dc-4b60-9e52-1b201691046c",
   "metadata": {},
   "outputs": [
    {
     "data": {
      "text/plain": [
       "(16,)"
      ]
     },
     "execution_count": 7,
     "metadata": {},
     "output_type": "execute_result"
    }
   ],
   "source": [
    "x.shape"
   ]
  },
  {
   "cell_type": "code",
   "execution_count": 8,
   "id": "302d3677-ed1b-4125-84b0-b3e16ebe19e1",
   "metadata": {},
   "outputs": [],
   "source": [
    "x1 = x.reshape(4,4)"
   ]
  },
  {
   "cell_type": "code",
   "execution_count": 9,
   "id": "8e35243d-8199-4db5-9d0b-1c453e848559",
   "metadata": {},
   "outputs": [
    {
     "data": {
      "text/plain": [
       "array([[ 0,  1,  2,  3],\n",
       "       [ 4,  5,  6,  7],\n",
       "       [ 8,  9, 10, 11],\n",
       "       [12, 13, 14, 15]])"
      ]
     },
     "execution_count": 9,
     "metadata": {},
     "output_type": "execute_result"
    }
   ],
   "source": [
    "x1"
   ]
  },
  {
   "cell_type": "code",
   "execution_count": null,
   "id": "82f5c290-57b9-4d33-ae0f-1320a1bbd644",
   "metadata": {},
   "outputs": [],
   "source": [
    "# x.reshape(3,3) would return an error"
   ]
  },
  {
   "cell_type": "code",
   "execution_count": 10,
   "id": "a1fed102-5732-49d4-bb0b-53ae3571eb83",
   "metadata": {},
   "outputs": [],
   "source": [
    "x3 = x.reshape(2,2,4)"
   ]
  },
  {
   "cell_type": "code",
   "execution_count": 11,
   "id": "aeec66d7-80e8-4b92-9cd7-639261b8746f",
   "metadata": {},
   "outputs": [
    {
     "data": {
      "text/plain": [
       "array([[[ 0,  1,  2,  3],\n",
       "        [ 4,  5,  6,  7]],\n",
       "\n",
       "       [[ 8,  9, 10, 11],\n",
       "        [12, 13, 14, 15]]])"
      ]
     },
     "execution_count": 11,
     "metadata": {},
     "output_type": "execute_result"
    }
   ],
   "source": [
    "x3"
   ]
  },
  {
   "cell_type": "code",
   "execution_count": null,
   "id": "b030becf-58be-4340-ad0f-521861ae43c6",
   "metadata": {},
   "outputs": [],
   "source": [
    "# no. of square brackets can tell you how many dimensions in an array"
   ]
  },
  {
   "cell_type": "code",
   "execution_count": 12,
   "id": "58e1676d-3920-4b07-8e9a-c859d0d0d21e",
   "metadata": {},
   "outputs": [],
   "source": [
    "x4 = x.reshape(2,2,2,2)"
   ]
  },
  {
   "cell_type": "code",
   "execution_count": 13,
   "id": "39b5a785-2d30-49d0-947f-3e350c63db05",
   "metadata": {},
   "outputs": [
    {
     "data": {
      "text/plain": [
       "array([[[[ 0,  1],\n",
       "         [ 2,  3]],\n",
       "\n",
       "        [[ 4,  5],\n",
       "         [ 6,  7]]],\n",
       "\n",
       "\n",
       "       [[[ 8,  9],\n",
       "         [10, 11]],\n",
       "\n",
       "        [[12, 13],\n",
       "         [14, 15]]]])"
      ]
     },
     "execution_count": 13,
     "metadata": {},
     "output_type": "execute_result"
    }
   ],
   "source": [
    "x4"
   ]
  },
  {
   "cell_type": "code",
   "execution_count": 15,
   "id": "b8781b3f-7130-4bf7-947b-4e94ff66571d",
   "metadata": {},
   "outputs": [
    {
     "data": {
      "text/plain": [
       "10"
      ]
     },
     "execution_count": 15,
     "metadata": {},
     "output_type": "execute_result"
    }
   ],
   "source": [
    "x1[2,2]"
   ]
  },
  {
   "cell_type": "code",
   "execution_count": 16,
   "id": "8f5ee675-c3d0-4179-a6bb-54db79b67516",
   "metadata": {},
   "outputs": [],
   "source": [
    "x1[1:,::2] = -99 # row 1 kay baad say har dosra column wali index ko -99 ki valye di"
   ]
  },
  {
   "cell_type": "code",
   "execution_count": 17,
   "id": "42a06bb1-cd09-4ce8-b97d-fe8cf3500424",
   "metadata": {},
   "outputs": [
    {
     "data": {
      "text/plain": [
       "array([[  0,   1,   2,   3],\n",
       "       [-99,   5, -99,   7],\n",
       "       [-99,   9, -99,  11],\n",
       "       [-99,  13, -99,  15]])"
      ]
     },
     "execution_count": 17,
     "metadata": {},
     "output_type": "execute_result"
    }
   ],
   "source": [
    "x1"
   ]
  },
  {
   "cell_type": "code",
   "execution_count": 19,
   "id": "2f2793b2-6f4c-4390-8f92-88188535dcaa",
   "metadata": {},
   "outputs": [
    {
     "data": {
      "text/plain": [
       "15"
      ]
     },
     "execution_count": 19,
     "metadata": {},
     "output_type": "execute_result"
    }
   ],
   "source": [
    "x1.max()"
   ]
  },
  {
   "cell_type": "code",
   "execution_count": 24,
   "id": "b9e8e09f-87d3-4501-b401-15fc13803b0d",
   "metadata": {},
   "outputs": [
    {
     "data": {
      "text/plain": [
       "array([ 0, 13,  2, 15])"
      ]
     },
     "execution_count": 24,
     "metadata": {},
     "output_type": "execute_result"
    }
   ],
   "source": [
    "x1.max(axis=0) # max from each row"
   ]
  },
  {
   "cell_type": "code",
   "execution_count": 26,
   "id": "0a029f6f-5142-4da8-b560-0b46c26c7704",
   "metadata": {},
   "outputs": [
    {
     "data": {
      "text/plain": [
       "array([ 3,  7, 11, 15])"
      ]
     },
     "execution_count": 26,
     "metadata": {},
     "output_type": "execute_result"
    }
   ],
   "source": [
    "x1.max(axis=1) # max from each column"
   ]
  },
  {
   "cell_type": "code",
   "execution_count": 27,
   "id": "8972efe3-2b5d-4fac-9e8a-cae7b859faa3",
   "metadata": {},
   "outputs": [],
   "source": [
    "arr = np.arange(16).reshape(4,4) #aik he line main x1 bana diya"
   ]
  },
  {
   "cell_type": "code",
   "execution_count": 28,
   "id": "73510b47-232f-4fa9-a670-f0e82349c386",
   "metadata": {},
   "outputs": [
    {
     "data": {
      "text/plain": [
       "array([[ 0,  1,  2,  3],\n",
       "       [ 4,  5,  6,  7],\n",
       "       [ 8,  9, 10, 11],\n",
       "       [12, 13, 14, 15]])"
      ]
     },
     "execution_count": 28,
     "metadata": {},
     "output_type": "execute_result"
    }
   ],
   "source": [
    "arr"
   ]
  },
  {
   "cell_type": "code",
   "execution_count": 30,
   "id": "264c3976-5c77-4697-8ad4-83e08ee4d84c",
   "metadata": {},
   "outputs": [],
   "source": [
    "y= np.zeros((4,4))"
   ]
  },
  {
   "cell_type": "code",
   "execution_count": 31,
   "id": "fee74a30-a5c7-43d4-8ac7-4f5d0a36cc62",
   "metadata": {},
   "outputs": [
    {
     "data": {
      "text/plain": [
       "array([[0., 0., 0., 0.],\n",
       "       [0., 0., 0., 0.],\n",
       "       [0., 0., 0., 0.],\n",
       "       [0., 0., 0., 0.]])"
      ]
     },
     "execution_count": 31,
     "metadata": {},
     "output_type": "execute_result"
    }
   ],
   "source": [
    "y"
   ]
  },
  {
   "cell_type": "code",
   "execution_count": 32,
   "id": "084fc9cf-95a1-422d-8a71-45cda416fff7",
   "metadata": {},
   "outputs": [],
   "source": [
    "z = np.ones((4,4))"
   ]
  },
  {
   "cell_type": "code",
   "execution_count": 33,
   "id": "ce429e5c-d6db-48f3-bafe-112efd9bc449",
   "metadata": {},
   "outputs": [
    {
     "data": {
      "text/plain": [
       "array([[1., 1., 1., 1.],\n",
       "       [1., 1., 1., 1.],\n",
       "       [1., 1., 1., 1.],\n",
       "       [1., 1., 1., 1.]])"
      ]
     },
     "execution_count": 33,
     "metadata": {},
     "output_type": "execute_result"
    }
   ],
   "source": [
    "z"
   ]
  },
  {
   "cell_type": "code",
   "execution_count": 35,
   "id": "ea83a812-a489-4525-b2be-f02e940b445b",
   "metadata": {},
   "outputs": [],
   "source": [
    "#ones and zeroes are the only one that exists"
   ]
  },
  {
   "cell_type": "code",
   "execution_count": 36,
   "id": "3ed52c79-dfc3-42fa-9d14-f90d4e1ecebb",
   "metadata": {},
   "outputs": [],
   "source": [
    "w = np.empty([2,4,4])"
   ]
  },
  {
   "cell_type": "code",
   "execution_count": 37,
   "id": "ce158269-6532-4e75-a93a-3bc60023d970",
   "metadata": {},
   "outputs": [
    {
     "data": {
      "text/plain": [
       "array([[[1.11480347e-311, 1.06224114e-321, 0.00000000e+000,\n",
       "         0.00000000e+000],\n",
       "        [0.00000000e+000, 5.02034658e+175, 2.16655307e+184,\n",
       "         1.04851157e+165],\n",
       "        [1.28988533e+165, 4.76075223e-038, 2.76749208e-057,\n",
       "         7.75831332e-144],\n",
       "        [3.59751658e+252, 1.46901661e+179, 3.75505006e+199,\n",
       "         2.59027921e-144]],\n",
       "\n",
       "       [[3.80985069e+180, 1.14428494e+243, 2.59027907e-144,\n",
       "         7.79952704e-143],\n",
       "        [2.87933193e+180, 4.27788817e-037, 4.28173748e-037,\n",
       "         7.10829699e-038],\n",
       "        [2.59027856e-144, 2.59903818e-144, 5.58166873e-091,\n",
       "         1.90302825e-052],\n",
       "        [9.95308622e-043, 1.11475752e+261, 1.16318408e-028,\n",
       "         2.59297589e-306]]])"
      ]
     },
     "execution_count": 37,
     "metadata": {},
     "output_type": "execute_result"
    }
   ],
   "source": [
    "w"
   ]
  },
  {
   "cell_type": "code",
   "execution_count": 38,
   "id": "f5a64de3-3f8e-459b-9e67-55c5da10e58e",
   "metadata": {},
   "outputs": [],
   "source": [
    "#empty doesnt make an actually empty array, it just fills it with random values"
   ]
  },
  {
   "cell_type": "code",
   "execution_count": 39,
   "id": "a97ca708-e9c9-465a-adcb-fe6629bcd6ce",
   "metadata": {},
   "outputs": [
    {
     "data": {
      "text/plain": [
       "array([[44, 44, 44],\n",
       "       [44, 44, 44]])"
      ]
     },
     "execution_count": 39,
     "metadata": {},
     "output_type": "execute_result"
    }
   ],
   "source": [
    "np.full([2,3],44)"
   ]
  },
  {
   "cell_type": "code",
   "execution_count": 42,
   "id": "9a07cec6-bdf1-45b4-b4a9-d283efa207e8",
   "metadata": {},
   "outputs": [],
   "source": [
    "ls = [22,'python','location',4.4]\n",
    "arr = np.array(ls)"
   ]
  },
  {
   "cell_type": "code",
   "execution_count": 43,
   "id": "cf93eaf7-9abc-4750-a4b8-49aa5a9d6e53",
   "metadata": {},
   "outputs": [
    {
     "data": {
      "text/plain": [
       "array(['22', 'python', 'location', '4.4'], dtype='<U32')"
      ]
     },
     "execution_count": 43,
     "metadata": {},
     "output_type": "execute_result"
    }
   ],
   "source": [
    "arr"
   ]
  },
  {
   "cell_type": "code",
   "execution_count": 44,
   "id": "b97c51d8-cf9a-4d60-9fee-6af0e9696276",
   "metadata": {},
   "outputs": [],
   "source": [
    "# u usually shudnt mix datatyoes in arrays cuz numpy will use some other datatype that they have e.g they used u23 here and ion know what that is"
   ]
  },
  {
   "cell_type": "code",
   "execution_count": 45,
   "id": "c3482668-15d8-4304-8ab0-25bf03eaff5d",
   "metadata": {},
   "outputs": [
    {
     "data": {
      "text/plain": [
       "2"
      ]
     },
     "execution_count": 45,
     "metadata": {},
     "output_type": "execute_result"
    }
   ],
   "source": [
    "z.ndim"
   ]
  },
  {
   "cell_type": "code",
   "execution_count": null,
   "id": "6171ffbe-cf89-4d51-864f-6fcec2116da4",
   "metadata": {},
   "outputs": [],
   "source": []
  }
 ],
 "metadata": {
  "kernelspec": {
   "display_name": "Python 3 (ipykernel)",
   "language": "python",
   "name": "python3"
  },
  "language_info": {
   "codemirror_mode": {
    "name": "ipython",
    "version": 3
   },
   "file_extension": ".py",
   "mimetype": "text/x-python",
   "name": "python",
   "nbconvert_exporter": "python",
   "pygments_lexer": "ipython3",
   "version": "3.12.7"
  }
 },
 "nbformat": 4,
 "nbformat_minor": 5
}
