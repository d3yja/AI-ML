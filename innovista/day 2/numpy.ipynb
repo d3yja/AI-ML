{
 "cells": [
  {
   "cell_type": "code",
   "execution_count": 103,
   "id": "34a73fef-b292-46a1-96d0-77b098e85a4b",
   "metadata": {},
   "outputs": [],
   "source": [
    "import numpy as np"
   ]
  },
  {
   "cell_type": "code",
   "execution_count": 104,
   "id": "56f2fb47-0fac-4298-b067-517b491c8d72",
   "metadata": {},
   "outputs": [],
   "source": [
    "x = np.arange(16)"
   ]
  },
  {
   "cell_type": "code",
   "execution_count": 105,
   "id": "007f4a0c-4d0d-432f-a766-2aafefb8ebae",
   "metadata": {},
   "outputs": [
    {
     "data": {
      "text/plain": [
       "array([ 0,  1,  2,  3,  4,  5,  6,  7,  8,  9, 10, 11, 12, 13, 14, 15])"
      ]
     },
     "execution_count": 105,
     "metadata": {},
     "output_type": "execute_result"
    }
   ],
   "source": [
    "x"
   ]
  },
  {
   "cell_type": "code",
   "execution_count": 106,
   "id": "c6689561-04fc-49be-bb34-5912e5f4f323",
   "metadata": {},
   "outputs": [
    {
     "data": {
      "text/plain": [
       "numpy.ndarray"
      ]
     },
     "execution_count": 106,
     "metadata": {},
     "output_type": "execute_result"
    }
   ],
   "source": [
    "type(x)"
   ]
  },
  {
   "cell_type": "code",
   "execution_count": 107,
   "id": "21954555-8e75-4333-bb1e-6461c9ad9799",
   "metadata": {},
   "outputs": [
    {
     "data": {
      "text/plain": [
       "16"
      ]
     },
     "execution_count": 107,
     "metadata": {},
     "output_type": "execute_result"
    }
   ],
   "source": [
    "x.size"
   ]
  },
  {
   "cell_type": "code",
   "execution_count": 108,
   "id": "b548221e-b4dc-4b60-9e52-1b201691046c",
   "metadata": {},
   "outputs": [
    {
     "data": {
      "text/plain": [
       "(16,)"
      ]
     },
     "execution_count": 108,
     "metadata": {},
     "output_type": "execute_result"
    }
   ],
   "source": [
    "x.shape"
   ]
  },
  {
   "cell_type": "code",
   "execution_count": 109,
   "id": "302d3677-ed1b-4125-84b0-b3e16ebe19e1",
   "metadata": {},
   "outputs": [],
   "source": [
    "x1 = x.reshape(4,4)"
   ]
  },
  {
   "cell_type": "code",
   "execution_count": 110,
   "id": "8e35243d-8199-4db5-9d0b-1c453e848559",
   "metadata": {},
   "outputs": [
    {
     "data": {
      "text/plain": [
       "array([[ 0,  1,  2,  3],\n",
       "       [ 4,  5,  6,  7],\n",
       "       [ 8,  9, 10, 11],\n",
       "       [12, 13, 14, 15]])"
      ]
     },
     "execution_count": 110,
     "metadata": {},
     "output_type": "execute_result"
    }
   ],
   "source": [
    "x1"
   ]
  },
  {
   "cell_type": "code",
   "execution_count": 111,
   "id": "82f5c290-57b9-4d33-ae0f-1320a1bbd644",
   "metadata": {},
   "outputs": [],
   "source": [
    "# x.reshape(3,3) would return an error"
   ]
  },
  {
   "cell_type": "code",
   "execution_count": 112,
   "id": "a1fed102-5732-49d4-bb0b-53ae3571eb83",
   "metadata": {},
   "outputs": [],
   "source": [
    "x3 = x.reshape(2,2,4)"
   ]
  },
  {
   "cell_type": "code",
   "execution_count": 113,
   "id": "aeec66d7-80e8-4b92-9cd7-639261b8746f",
   "metadata": {},
   "outputs": [
    {
     "data": {
      "text/plain": [
       "array([[[ 0,  1,  2,  3],\n",
       "        [ 4,  5,  6,  7]],\n",
       "\n",
       "       [[ 8,  9, 10, 11],\n",
       "        [12, 13, 14, 15]]])"
      ]
     },
     "execution_count": 113,
     "metadata": {},
     "output_type": "execute_result"
    }
   ],
   "source": [
    "x3"
   ]
  },
  {
   "cell_type": "code",
   "execution_count": 114,
   "id": "b030becf-58be-4340-ad0f-521861ae43c6",
   "metadata": {},
   "outputs": [],
   "source": [
    "# no. of square brackets can tell you how many dimensions in an array"
   ]
  },
  {
   "cell_type": "code",
   "execution_count": 115,
   "id": "58e1676d-3920-4b07-8e9a-c859d0d0d21e",
   "metadata": {},
   "outputs": [],
   "source": [
    "x4 = x.reshape(2,2,2,2)"
   ]
  },
  {
   "cell_type": "code",
   "execution_count": 116,
   "id": "39b5a785-2d30-49d0-947f-3e350c63db05",
   "metadata": {},
   "outputs": [
    {
     "data": {
      "text/plain": [
       "array([[[[ 0,  1],\n",
       "         [ 2,  3]],\n",
       "\n",
       "        [[ 4,  5],\n",
       "         [ 6,  7]]],\n",
       "\n",
       "\n",
       "       [[[ 8,  9],\n",
       "         [10, 11]],\n",
       "\n",
       "        [[12, 13],\n",
       "         [14, 15]]]])"
      ]
     },
     "execution_count": 116,
     "metadata": {},
     "output_type": "execute_result"
    }
   ],
   "source": [
    "x4"
   ]
  },
  {
   "cell_type": "code",
   "execution_count": 117,
   "id": "b8781b3f-7130-4bf7-947b-4e94ff66571d",
   "metadata": {},
   "outputs": [
    {
     "data": {
      "text/plain": [
       "10"
      ]
     },
     "execution_count": 117,
     "metadata": {},
     "output_type": "execute_result"
    }
   ],
   "source": [
    "x1[2,2]"
   ]
  },
  {
   "cell_type": "code",
   "execution_count": 118,
   "id": "8f5ee675-c3d0-4179-a6bb-54db79b67516",
   "metadata": {},
   "outputs": [],
   "source": [
    "x1[1:,::2] = -99 # row 1 kay baad say har dosra column wali index ko -99 ki valye di"
   ]
  },
  {
   "cell_type": "code",
   "execution_count": 119,
   "id": "42a06bb1-cd09-4ce8-b97d-fe8cf3500424",
   "metadata": {},
   "outputs": [
    {
     "data": {
      "text/plain": [
       "array([[  0,   1,   2,   3],\n",
       "       [-99,   5, -99,   7],\n",
       "       [-99,   9, -99,  11],\n",
       "       [-99,  13, -99,  15]])"
      ]
     },
     "execution_count": 119,
     "metadata": {},
     "output_type": "execute_result"
    }
   ],
   "source": [
    "x1"
   ]
  },
  {
   "cell_type": "code",
   "execution_count": 120,
   "id": "2f2793b2-6f4c-4390-8f92-88188535dcaa",
   "metadata": {},
   "outputs": [
    {
     "data": {
      "text/plain": [
       "15"
      ]
     },
     "execution_count": 120,
     "metadata": {},
     "output_type": "execute_result"
    }
   ],
   "source": [
    "x1.max()"
   ]
  },
  {
   "cell_type": "code",
   "execution_count": 121,
   "id": "b9e8e09f-87d3-4501-b401-15fc13803b0d",
   "metadata": {},
   "outputs": [
    {
     "data": {
      "text/plain": [
       "array([ 0, 13,  2, 15])"
      ]
     },
     "execution_count": 121,
     "metadata": {},
     "output_type": "execute_result"
    }
   ],
   "source": [
    "x1.max(axis=0) # max from each row"
   ]
  },
  {
   "cell_type": "code",
   "execution_count": 122,
   "id": "0a029f6f-5142-4da8-b560-0b46c26c7704",
   "metadata": {},
   "outputs": [
    {
     "data": {
      "text/plain": [
       "array([ 3,  7, 11, 15])"
      ]
     },
     "execution_count": 122,
     "metadata": {},
     "output_type": "execute_result"
    }
   ],
   "source": [
    "x1.max(axis=1) # max from each column"
   ]
  },
  {
   "cell_type": "code",
   "execution_count": 123,
   "id": "8972efe3-2b5d-4fac-9e8a-cae7b859faa3",
   "metadata": {},
   "outputs": [],
   "source": [
    "arr = np.arange(16).reshape(4,4) #aik he line main x1 bana diya"
   ]
  },
  {
   "cell_type": "code",
   "execution_count": 124,
   "id": "73510b47-232f-4fa9-a670-f0e82349c386",
   "metadata": {},
   "outputs": [
    {
     "data": {
      "text/plain": [
       "array([[ 0,  1,  2,  3],\n",
       "       [ 4,  5,  6,  7],\n",
       "       [ 8,  9, 10, 11],\n",
       "       [12, 13, 14, 15]])"
      ]
     },
     "execution_count": 124,
     "metadata": {},
     "output_type": "execute_result"
    }
   ],
   "source": [
    "arr"
   ]
  },
  {
   "cell_type": "code",
   "execution_count": 125,
   "id": "264c3976-5c77-4697-8ad4-83e08ee4d84c",
   "metadata": {},
   "outputs": [],
   "source": [
    "y= np.zeros((4,4))"
   ]
  },
  {
   "cell_type": "code",
   "execution_count": 126,
   "id": "fee74a30-a5c7-43d4-8ac7-4f5d0a36cc62",
   "metadata": {},
   "outputs": [
    {
     "data": {
      "text/plain": [
       "array([[0., 0., 0., 0.],\n",
       "       [0., 0., 0., 0.],\n",
       "       [0., 0., 0., 0.],\n",
       "       [0., 0., 0., 0.]])"
      ]
     },
     "execution_count": 126,
     "metadata": {},
     "output_type": "execute_result"
    }
   ],
   "source": [
    "y"
   ]
  },
  {
   "cell_type": "code",
   "execution_count": 127,
   "id": "084fc9cf-95a1-422d-8a71-45cda416fff7",
   "metadata": {},
   "outputs": [],
   "source": [
    "z = np.ones((4,4))"
   ]
  },
  {
   "cell_type": "code",
   "execution_count": 128,
   "id": "ce429e5c-d6db-48f3-bafe-112efd9bc449",
   "metadata": {},
   "outputs": [
    {
     "data": {
      "text/plain": [
       "array([[1., 1., 1., 1.],\n",
       "       [1., 1., 1., 1.],\n",
       "       [1., 1., 1., 1.],\n",
       "       [1., 1., 1., 1.]])"
      ]
     },
     "execution_count": 128,
     "metadata": {},
     "output_type": "execute_result"
    }
   ],
   "source": [
    "z"
   ]
  },
  {
   "cell_type": "code",
   "execution_count": 129,
   "id": "ea83a812-a489-4525-b2be-f02e940b445b",
   "metadata": {},
   "outputs": [],
   "source": [
    "#ones and zeroes are the only one that exists"
   ]
  },
  {
   "cell_type": "code",
   "execution_count": 130,
   "id": "3ed52c79-dfc3-42fa-9d14-f90d4e1ecebb",
   "metadata": {},
   "outputs": [],
   "source": [
    "w = np.empty([2,4,4])"
   ]
  },
  {
   "cell_type": "code",
   "execution_count": 131,
   "id": "ce158269-6532-4e75-a93a-3bc60023d970",
   "metadata": {},
   "outputs": [
    {
     "data": {
      "text/plain": [
       "array([[[1.50751130e-311, 1.06224114e-321, 0.00000000e+000,\n",
       "         0.00000000e+000],\n",
       "        [7.56587583e-307, 5.02034658e+175, 7.86349968e-067,\n",
       "         4.98774866e-037],\n",
       "        [2.03829412e+160, 2.23290522e+180, 4.95212552e-062,\n",
       "         4.26490098e-096],\n",
       "        [1.12855837e+277, 8.93168725e+271, 4.76484771e+180,\n",
       "         2.59027921e-144]],\n",
       "\n",
       "       [[3.80985069e+180, 1.14428494e+243, 2.59027907e-144,\n",
       "         7.79952704e-143],\n",
       "        [1.59990973e+160, 1.40483432e+165, 7.79495320e-071,\n",
       "         1.17029025e-046],\n",
       "        [2.59027858e-144, 2.59903818e-144, 5.58166873e-091,\n",
       "         5.35653487e-038],\n",
       "        [1.04119841e-042, 1.11475752e+261, 1.16318408e-028,\n",
       "         2.59297589e-306]]])"
      ]
     },
     "execution_count": 131,
     "metadata": {},
     "output_type": "execute_result"
    }
   ],
   "source": [
    "w"
   ]
  },
  {
   "cell_type": "code",
   "execution_count": 132,
   "id": "f5a64de3-3f8e-459b-9e67-55c5da10e58e",
   "metadata": {},
   "outputs": [],
   "source": [
    "#empty doesnt make an actually empty array, it just fills it with random values"
   ]
  },
  {
   "cell_type": "code",
   "execution_count": 133,
   "id": "a97ca708-e9c9-465a-adcb-fe6629bcd6ce",
   "metadata": {},
   "outputs": [
    {
     "data": {
      "text/plain": [
       "array([[44, 44, 44],\n",
       "       [44, 44, 44]])"
      ]
     },
     "execution_count": 133,
     "metadata": {},
     "output_type": "execute_result"
    }
   ],
   "source": [
    "np.full([2,3],44)"
   ]
  },
  {
   "cell_type": "code",
   "execution_count": 134,
   "id": "9a07cec6-bdf1-45b4-b4a9-d283efa207e8",
   "metadata": {},
   "outputs": [],
   "source": [
    "ls = [22,'python','location',4.4]\n",
    "arr = np.array(ls)"
   ]
  },
  {
   "cell_type": "code",
   "execution_count": 135,
   "id": "cf93eaf7-9abc-4750-a4b8-49aa5a9d6e53",
   "metadata": {},
   "outputs": [
    {
     "data": {
      "text/plain": [
       "array(['22', 'python', 'location', '4.4'], dtype='<U32')"
      ]
     },
     "execution_count": 135,
     "metadata": {},
     "output_type": "execute_result"
    }
   ],
   "source": [
    "arr"
   ]
  },
  {
   "cell_type": "code",
   "execution_count": 136,
   "id": "b97c51d8-cf9a-4d60-9fee-6af0e9696276",
   "metadata": {},
   "outputs": [],
   "source": [
    "# u usually shudnt mix datatyoes in arrays cuz numpy will use some other datatype that they have e.g they used u23 here and ion know what that is"
   ]
  },
  {
   "cell_type": "code",
   "execution_count": 137,
   "id": "c3482668-15d8-4304-8ab0-25bf03eaff5d",
   "metadata": {},
   "outputs": [
    {
     "data": {
      "text/plain": [
       "2"
      ]
     },
     "execution_count": 137,
     "metadata": {},
     "output_type": "execute_result"
    }
   ],
   "source": [
    "z.ndim"
   ]
  },
  {
   "cell_type": "code",
   "execution_count": 138,
   "id": "6171ffbe-cf89-4d51-864f-6fcec2116da4",
   "metadata": {},
   "outputs": [],
   "source": [
    "a = np.arange(6,14,2).reshape(2,2) # start from 6  end is 14 (not included in array so uptil 12), steps 2. Reshape array to 2x2"
   ]
  },
  {
   "cell_type": "code",
   "execution_count": 139,
   "id": "cd1bb4ff-2f0b-45ab-b17d-d1816f00a986",
   "metadata": {},
   "outputs": [
    {
     "data": {
      "text/plain": [
       "array([[ 6,  8],\n",
       "       [10, 12]])"
      ]
     },
     "execution_count": 139,
     "metadata": {},
     "output_type": "execute_result"
    }
   ],
   "source": [
    "a"
   ]
  },
  {
   "cell_type": "code",
   "execution_count": 140,
   "id": "c33bd676-4a9a-4dce-af68-d32851e7667d",
   "metadata": {},
   "outputs": [],
   "source": [
    "b = np.arange(6,14,2).reshape(2,2)"
   ]
  },
  {
   "cell_type": "code",
   "execution_count": 141,
   "id": "6adb53ae-215a-4264-9905-0a37702fd447",
   "metadata": {},
   "outputs": [
    {
     "data": {
      "text/plain": [
       "array([[ 36,  64],\n",
       "       [100, 144]])"
      ]
     },
     "execution_count": 141,
     "metadata": {},
     "output_type": "execute_result"
    }
   ],
   "source": [
    "a*b"
   ]
  },
  {
   "cell_type": "code",
   "execution_count": 142,
   "id": "33355d71-8061-4a5d-a255-654d8c191dbe",
   "metadata": {},
   "outputs": [
    {
     "data": {
      "text/plain": [
       "array([[0, 0],\n",
       "       [0, 0]])"
      ]
     },
     "execution_count": 142,
     "metadata": {},
     "output_type": "execute_result"
    }
   ],
   "source": [
    "a-b"
   ]
  },
  {
   "cell_type": "code",
   "execution_count": 143,
   "id": "aedcd47b-a7dc-408a-9e67-d1383674ecc4",
   "metadata": {},
   "outputs": [
    {
     "data": {
      "text/plain": [
       "array([[ 9, 11],\n",
       "       [13, 15]])"
      ]
     },
     "execution_count": 143,
     "metadata": {},
     "output_type": "execute_result"
    }
   ],
   "source": [
    "a+3"
   ]
  },
  {
   "cell_type": "code",
   "execution_count": 144,
   "id": "7d1eee8b-0f17-41a8-9230-aa50c0a21902",
   "metadata": {},
   "outputs": [
    {
     "data": {
      "text/plain": [
       "array([[18, 24],\n",
       "       [30, 36]])"
      ]
     },
     "execution_count": 144,
     "metadata": {},
     "output_type": "execute_result"
    }
   ],
   "source": [
    "a*3"
   ]
  },
  {
   "cell_type": "code",
   "execution_count": 145,
   "id": "fabf0578-75f6-40c8-8aae-bb89bf0e2913",
   "metadata": {},
   "outputs": [],
   "source": [
    "# boolean operator check"
   ]
  },
  {
   "cell_type": "code",
   "execution_count": 146,
   "id": "3ce0223e-eff0-46a8-916c-038e790c7cad",
   "metadata": {},
   "outputs": [
    {
     "data": {
      "text/plain": [
       "array([ 6, 12])"
      ]
     },
     "execution_count": 146,
     "metadata": {},
     "output_type": "execute_result"
    }
   ],
   "source": [
    "a[a%3 == 0] # returns numbers which when divided by three have a remainder of 0 (modulus used)"
   ]
  },
  {
   "cell_type": "code",
   "execution_count": 147,
   "id": "15f32cf2-612e-4a44-baed-90e9655c625f",
   "metadata": {},
   "outputs": [
    {
     "data": {
      "text/plain": [
       "array([ 8, 10])"
      ]
     },
     "execution_count": 147,
     "metadata": {},
     "output_type": "execute_result"
    }
   ],
   "source": [
    "a[a%3 != 0] # returns numbers which when divided by three dont have a remainder of 0 (modulus used)"
   ]
  },
  {
   "cell_type": "code",
   "execution_count": 148,
   "id": "7418de72-e529-4b2a-8d8f-fdeda205ec1e",
   "metadata": {},
   "outputs": [],
   "source": [
    "values = np.random.randn(3,3)"
   ]
  },
  {
   "cell_type": "code",
   "execution_count": 149,
   "id": "85330aa2-1694-485a-adf5-af2e6740dd2d",
   "metadata": {},
   "outputs": [
    {
     "data": {
      "text/plain": [
       "array([[ 0.15146226, -0.25063133, -1.68571252],\n",
       "       [-0.10896468, -0.32024034,  0.73273915],\n",
       "       [-0.4384145 ,  0.3655638 ,  1.17002186]])"
      ]
     },
     "execution_count": 149,
     "metadata": {},
     "output_type": "execute_result"
    }
   ],
   "source": [
    "values"
   ]
  },
  {
   "cell_type": "code",
   "execution_count": 150,
   "id": "4784f188-f8a0-4767-a2f8-b195d6a388e8",
   "metadata": {},
   "outputs": [],
   "source": [
    "data = np.array([['cat','dog','cat',],['dog','dog','cat'],['cat','cat','dog']])"
   ]
  },
  {
   "cell_type": "code",
   "execution_count": 151,
   "id": "82923d75-7f4d-4d3e-aa3f-9ce02a006219",
   "metadata": {},
   "outputs": [
    {
     "data": {
      "text/plain": [
       "array([['cat', 'dog', 'cat'],\n",
       "       ['dog', 'dog', 'cat'],\n",
       "       ['cat', 'cat', 'dog']], dtype='<U3')"
      ]
     },
     "execution_count": 151,
     "metadata": {},
     "output_type": "execute_result"
    }
   ],
   "source": [
    "data"
   ]
  },
  {
   "cell_type": "code",
   "execution_count": 152,
   "id": "f4e844f5-d990-4f6b-a632-9b464fae8c8c",
   "metadata": {},
   "outputs": [
    {
     "data": {
      "text/plain": [
       "array([ 0.15146226, -1.68571252,  0.73273915, -0.4384145 ,  0.3655638 ])"
      ]
     },
     "execution_count": 152,
     "metadata": {},
     "output_type": "execute_result"
    }
   ],
   "source": [
    "values[data=='cat'] # if data is taken as a data set and values array is corresponding to it, this will find the values assigned to cat"
   ]
  },
  {
   "cell_type": "code",
   "execution_count": 153,
   "id": "cfaad491-00e4-459d-a625-2bd178531167",
   "metadata": {},
   "outputs": [],
   "source": [
    "arr = np.random.randn(10,10)"
   ]
  },
  {
   "cell_type": "code",
   "execution_count": 154,
   "id": "0c061341-531c-4db0-ba2f-0af6ef58b866",
   "metadata": {},
   "outputs": [
    {
     "name": "stdout",
     "output_type": "stream",
     "text": [
      "[[ 0.56866167  0.01248394 -0.45797834 -0.20960358  0.92707364  0.6471591\n",
      "  -1.07879261  0.44755687  0.44969837 -0.53625323]\n",
      " [ 1.14497086  0.65027712  0.73319765 -0.64515596  0.52624331 -0.97564699\n",
      "  -0.22480557  0.33123591  0.65785461  1.35109668]\n",
      " [ 1.28094588 -0.83258896 -0.51366794  1.34626274  0.09034566 -0.80810815\n",
      "   0.0133519   0.80169093  1.24775066 -0.76922664]\n",
      " [-1.11324587  0.51380889 -0.08922818  0.7035953   0.26620443  0.80026763\n",
      "  -1.89888656  1.03519101 -0.02531945  1.44412972]\n",
      " [ 0.20798369  0.34182871  0.25133909  0.34890361 -0.0604516  -0.9479312\n",
      "   0.18833265 -0.09915154  0.16854181  0.1426806 ]\n",
      " [ 1.24448686 -1.61843589 -0.89877568 -0.50090186  1.32010946 -0.6915877\n",
      "   0.59335717 -0.51710785 -2.57530612 -0.13987834]\n",
      " [-1.3617015  -0.01337416 -0.68656456  0.22054519  0.20304936 -2.9071026\n",
      "   0.60587273 -1.49615009 -0.4808968   0.75784991]\n",
      " [-1.22324845  0.24148416  1.13678376  2.02556684 -0.18172111  0.21670263\n",
      "  -0.86454553 -1.29806341 -0.12796591 -1.45917621]\n",
      " [ 0.62728941  0.4568515   0.7627883  -0.88226251 -0.00888127 -0.39163923\n",
      "  -1.31602931  0.19794038 -0.31667772  2.06365876]\n",
      " [-1.03386041 -2.03835604  2.19067174 -1.08616571  0.33435056  1.63145539\n",
      "  -0.4739572  -0.77526718 -0.95509042  1.7650731 ]]\n"
     ]
    }
   ],
   "source": [
    "print(arr)"
   ]
  },
  {
   "cell_type": "code",
   "execution_count": 155,
   "id": "cdc9ce12-8246-4ce3-ae04-ce89240a08fb",
   "metadata": {},
   "outputs": [
    {
     "name": "stdout",
     "output_type": "stream",
     "text": [
      "[[ 0.57  0.01 -0.46 -0.21  0.93  0.65 -1.08  0.45  0.45 -0.54]\n",
      " [ 1.14  0.65  0.73 -0.65  0.53 -0.98 -0.22  0.33  0.66  1.35]\n",
      " [ 1.28 -0.83 -0.51  1.35  0.09 -0.81  0.01  0.8   1.25 -0.77]\n",
      " [-1.11  0.51 -0.09  0.7   0.27  0.8  -1.9   1.04 -0.03  1.44]\n",
      " [ 0.21  0.34  0.25  0.35 -0.06 -0.95  0.19 -0.1   0.17  0.14]\n",
      " [ 1.24 -1.62 -0.9  -0.5   1.32 -0.69  0.59 -0.52 -2.58 -0.14]\n",
      " [-1.36 -0.01 -0.69  0.22  0.2  -2.91  0.61 -1.5  -0.48  0.76]\n",
      " [-1.22  0.24  1.14  2.03 -0.18  0.22 -0.86 -1.3  -0.13 -1.46]\n",
      " [ 0.63  0.46  0.76 -0.88 -0.01 -0.39 -1.32  0.2  -0.32  2.06]\n",
      " [-1.03 -2.04  2.19 -1.09  0.33  1.63 -0.47 -0.78 -0.96  1.77]]\n"
     ]
    }
   ],
   "source": [
    "print(np.round(arr,2))\n",
    "arr = np.round(arr,2)"
   ]
  },
  {
   "cell_type": "code",
   "execution_count": 156,
   "id": "aa5d3deb-d34f-4c0a-9fcd-5246ffc8e622",
   "metadata": {},
   "outputs": [
    {
     "name": "stdout",
     "output_type": "stream",
     "text": [
      "[ 0.01  0.65 -0.83  0.51  0.34 -1.62 -0.01  0.24  0.46 -2.04]\n"
     ]
    }
   ],
   "source": [
    "print(arr[0:10,1]) # printing column 1"
   ]
  },
  {
   "cell_type": "code",
   "execution_count": 157,
   "id": "4c12d846-4286-442a-ad89-c7d0e6e21687",
   "metadata": {},
   "outputs": [
    {
     "name": "stdout",
     "output_type": "stream",
     "text": [
      "[ 0.57  0.01 -0.46 -0.21  0.93  0.65 -1.08  0.45  0.45 -0.54]\n"
     ]
    }
   ],
   "source": [
    "print(arr[0,0:10]) #printing row 1"
   ]
  },
  {
   "cell_type": "code",
   "execution_count": 158,
   "id": "6244b67a-5ad3-4bd3-a625-09dac2c94dae",
   "metadata": {},
   "outputs": [
    {
     "name": "stdout",
     "output_type": "stream",
     "text": [
      "[[ 0.57  0.01 -0.46 -0.21  0.93  0.65 -1.08  0.45  0.45 -0.54]\n",
      " [ 1.28 -0.83 -0.51  1.35  0.09 -0.81  0.01  0.8   1.25 -0.77]\n",
      " [ 0.21  0.34  0.25  0.35 -0.06 -0.95  0.19 -0.1   0.17  0.14]\n",
      " [-1.36 -0.01 -0.69  0.22  0.2  -2.91  0.61 -1.5  -0.48  0.76]\n",
      " [ 0.63  0.46  0.76 -0.88 -0.01 -0.39 -1.32  0.2  -0.32  2.06]]\n"
     ]
    }
   ],
   "source": [
    "print(arr[0:10:2]) # printing every second row"
   ]
  },
  {
   "cell_type": "code",
   "execution_count": 159,
   "id": "79c38711-6925-4e78-8bfe-41729eaf39c1",
   "metadata": {},
   "outputs": [
    {
     "name": "stdout",
     "output_type": "stream",
     "text": [
      "[[ 0.57 -0.46  0.93 -1.08  0.45]\n",
      " [ 1.14  0.73  0.53 -0.22  0.66]\n",
      " [ 1.28 -0.51  0.09  0.01  1.25]\n",
      " [-1.11 -0.09  0.27 -1.9  -0.03]\n",
      " [ 0.21  0.25 -0.06  0.19  0.17]\n",
      " [ 1.24 -0.9   1.32  0.59 -2.58]\n",
      " [-1.36 -0.69  0.2   0.61 -0.48]\n",
      " [-1.22  1.14 -0.18 -0.86 -0.13]\n",
      " [ 0.63  0.76 -0.01 -1.32 -0.32]\n",
      " [-1.03  2.19  0.33 -0.47 -0.96]]\n"
     ]
    }
   ],
   "source": [
    "print(arr[::,0:10:2]) #printing every second column"
   ]
  },
  {
   "cell_type": "code",
   "execution_count": 160,
   "id": "3772d619-fdbb-4da2-8468-556e96f99116",
   "metadata": {},
   "outputs": [
    {
     "name": "stdout",
     "output_type": "stream",
     "text": [
      "[[ 0.57  0.01 -0.46 -0.21  0.93  0.65 -1.08  0.45  0.45 -0.54]\n",
      " [ 1.28 -0.83 -0.51  1.35  0.09 -0.81  0.01  0.8   1.25 -0.77]\n",
      " [ 0.21  0.34  0.25  0.35 -0.06 -0.95  0.19 -0.1   0.17  0.14]\n",
      " [-1.36 -0.01 -0.69  0.22  0.2  -2.91  0.61 -1.5  -0.48  0.76]\n",
      " [ 0.63  0.46  0.76 -0.88 -0.01 -0.39 -1.32  0.2  -0.32  2.06]]\n"
     ]
    }
   ],
   "source": [
    "print(arr[::2]) #another way to print every second row"
   ]
  },
  {
   "cell_type": "code",
   "execution_count": 161,
   "id": "d37c6a0d-af6b-4a76-9b21-99b055f09843",
   "metadata": {},
   "outputs": [
    {
     "name": "stdout",
     "output_type": "stream",
     "text": [
      "[[ 0.57 -0.46  0.93 -1.08  0.45]\n",
      " [ 1.14  0.73  0.53 -0.22  0.66]\n",
      " [ 1.28 -0.51  0.09  0.01  1.25]\n",
      " [-1.11 -0.09  0.27 -1.9  -0.03]\n",
      " [ 0.21  0.25 -0.06  0.19  0.17]\n",
      " [ 1.24 -0.9   1.32  0.59 -2.58]\n",
      " [-1.36 -0.69  0.2   0.61 -0.48]\n",
      " [-1.22  1.14 -0.18 -0.86 -0.13]\n",
      " [ 0.63  0.76 -0.01 -1.32 -0.32]\n",
      " [-1.03  2.19  0.33 -0.47 -0.96]]\n"
     ]
    }
   ],
   "source": [
    "print(arr[::,::2]) #another way to print every second column"
   ]
  },
  {
   "cell_type": "code",
   "execution_count": 162,
   "id": "93776cb9-1970-43ea-83b3-1c67e14d7e70",
   "metadata": {},
   "outputs": [],
   "source": [
    "x = np.array([0,1,44,3,67])"
   ]
  },
  {
   "cell_type": "code",
   "execution_count": 163,
   "id": "0914e6fd-c569-47b7-9454-a5e47fd5258f",
   "metadata": {},
   "outputs": [
    {
     "data": {
      "text/plain": [
       "array([ 0,  1, 44,  3, 67])"
      ]
     },
     "execution_count": 163,
     "metadata": {},
     "output_type": "execute_result"
    }
   ],
   "source": [
    "x"
   ]
  },
  {
   "cell_type": "code",
   "execution_count": 164,
   "id": "0b8fc271-2c50-4a3b-9275-b94c9189a0a1",
   "metadata": {},
   "outputs": [],
   "source": [
    "y = np.array([2,0,43,30,67])"
   ]
  },
  {
   "cell_type": "code",
   "execution_count": 165,
   "id": "b545e2aa-295e-4c37-b868-a4e9b8e7df22",
   "metadata": {},
   "outputs": [
    {
     "data": {
      "text/plain": [
       "array([ 2,  0, 43, 30, 67])"
      ]
     },
     "execution_count": 165,
     "metadata": {},
     "output_type": "execute_result"
    }
   ],
   "source": [
    "y"
   ]
  },
  {
   "cell_type": "code",
   "execution_count": 166,
   "id": "a9e63cfa-3746-4c81-b5b2-032c2632d87b",
   "metadata": {},
   "outputs": [
    {
     "data": {
      "text/plain": [
       "array([ 2,  1, 44, 30, 67])"
      ]
     },
     "execution_count": 166,
     "metadata": {},
     "output_type": "execute_result"
    }
   ],
   "source": [
    "np.maximum(x,y) # returns an array containing the maximum value at each index between x and y e.g at index 1 x has 0 while y has 2 so 2 is returned"
   ]
  },
  {
   "cell_type": "code",
   "execution_count": 167,
   "id": "6a27b02c-f25e-4e69-8aad-504f764d3d68",
   "metadata": {},
   "outputs": [],
   "source": [
    "x = np.arange(9).reshape(3,3)"
   ]
  },
  {
   "cell_type": "code",
   "execution_count": 168,
   "id": "526727d1-ce5f-467d-b60f-c3d6a24528f4",
   "metadata": {},
   "outputs": [
    {
     "name": "stdout",
     "output_type": "stream",
     "text": [
      "[[0 1 2]\n",
      " [3 4 5]\n",
      " [6 7 8]]\n"
     ]
    }
   ],
   "source": [
    "print(x)"
   ]
  },
  {
   "cell_type": "code",
   "execution_count": 169,
   "id": "05eb9fb6-bdee-425a-8b6d-9d0b5ff5222d",
   "metadata": {},
   "outputs": [],
   "source": [
    "y = np.arange(6).reshape(3,2)"
   ]
  },
  {
   "cell_type": "code",
   "execution_count": 170,
   "id": "61fb76d6-96a3-4ab3-b9f5-fde84f36e28e",
   "metadata": {},
   "outputs": [
    {
     "data": {
      "text/plain": [
       "array([[0, 1],\n",
       "       [2, 3],\n",
       "       [4, 5]])"
      ]
     },
     "execution_count": 170,
     "metadata": {},
     "output_type": "execute_result"
    }
   ],
   "source": [
    "y"
   ]
  },
  {
   "cell_type": "code",
   "execution_count": 171,
   "id": "2d1965c9-aec3-48f1-ab05-6929dfdb04c9",
   "metadata": {},
   "outputs": [],
   "source": [
    "# x*y wud give error as dimensions not same"
   ]
  },
  {
   "cell_type": "code",
   "execution_count": 172,
   "id": "c638dc3a-1e63-41a0-ae40-fd72a40c1c9f",
   "metadata": {},
   "outputs": [
    {
     "data": {
      "text/plain": [
       "array([[10, 13],\n",
       "       [28, 40],\n",
       "       [46, 67]])"
      ]
     },
     "execution_count": 172,
     "metadata": {},
     "output_type": "execute_result"
    }
   ],
   "source": [
    "np.dot(x,y) # dot product"
   ]
  },
  {
   "cell_type": "code",
   "execution_count": 173,
   "id": "9b220e03-7c4a-41ff-adc2-21896024b805",
   "metadata": {},
   "outputs": [
    {
     "data": {
      "text/plain": [
       "array([[10, 13],\n",
       "       [28, 40],\n",
       "       [46, 67]])"
      ]
     },
     "execution_count": 173,
     "metadata": {},
     "output_type": "execute_result"
    }
   ],
   "source": [
    "x.dot(y) # another way of doing it"
   ]
  },
  {
   "cell_type": "code",
   "execution_count": 174,
   "id": "f1bb2807-0972-40fb-969f-99159f919728",
   "metadata": {},
   "outputs": [
    {
     "data": {
      "text/plain": [
       "array([[0, 3, 6],\n",
       "       [1, 4, 7],\n",
       "       [2, 5, 8]])"
      ]
     },
     "execution_count": 174,
     "metadata": {},
     "output_type": "execute_result"
    }
   ],
   "source": [
    "x.T # transpose"
   ]
  },
  {
   "cell_type": "code",
   "execution_count": 175,
   "id": "120c47ee-2f42-4b6a-80c5-b2564645b1e7",
   "metadata": {},
   "outputs": [],
   "source": [
    "# transpose means make rows columns and columns rows"
   ]
  },
  {
   "cell_type": "code",
   "execution_count": 176,
   "id": "bdf4437f-fe98-4278-8741-82022f08b412",
   "metadata": {},
   "outputs": [
    {
     "data": {
      "text/plain": [
       "array([0, 1, 2, 3, 4, 5, 6, 7, 8])"
      ]
     },
     "execution_count": 176,
     "metadata": {},
     "output_type": "execute_result"
    }
   ],
   "source": [
    "x.flatten() # makes array 1D"
   ]
  },
  {
   "cell_type": "code",
   "execution_count": 177,
   "id": "fd31258b-53d1-4685-b445-ffbcd6a1b27b",
   "metadata": {},
   "outputs": [
    {
     "data": {
      "text/plain": [
       "array([[0, 1, 2],\n",
       "       [3, 4, 5],\n",
       "       [6, 7, 8]])"
      ]
     },
     "execution_count": 177,
     "metadata": {},
     "output_type": "execute_result"
    }
   ],
   "source": [
    "x"
   ]
  },
  {
   "cell_type": "code",
   "execution_count": 178,
   "id": "5980a5ef-5601-4061-9f82-71f89bcf805d",
   "metadata": {},
   "outputs": [
    {
     "data": {
      "text/plain": [
       "array([[0, 1],\n",
       "       [2, 3],\n",
       "       [4, 5]])"
      ]
     },
     "execution_count": 178,
     "metadata": {},
     "output_type": "execute_result"
    }
   ],
   "source": [
    "y"
   ]
  },
  {
   "cell_type": "code",
   "execution_count": 179,
   "id": "08ee019c-66c4-4352-84f3-ff3f94beac00",
   "metadata": {},
   "outputs": [
    {
     "data": {
      "text/plain": [
       "array([[0, 1, 2],\n",
       "       [3, 4, 5]])"
      ]
     },
     "execution_count": 179,
     "metadata": {},
     "output_type": "execute_result"
    }
   ],
   "source": [
    "y.reshape(2,-1) # u can use -1 to find out second dimension kya banti hai if u dont know urself"
   ]
  },
  {
   "cell_type": "code",
   "execution_count": 180,
   "id": "9e9cc761-4bf5-46e3-9e42-494f6d8a3b47",
   "metadata": {},
   "outputs": [],
   "source": [
    "# for example above it assiged 2x3"
   ]
  },
  {
   "cell_type": "code",
   "execution_count": 181,
   "id": "f43d2bf1-e1bc-4666-a816-8f60cb0272dc",
   "metadata": {},
   "outputs": [
    {
     "data": {
      "text/plain": [
       "array([[0, 1, 2, 0, 1],\n",
       "       [3, 4, 5, 2, 3],\n",
       "       [6, 7, 8, 4, 5]])"
      ]
     },
     "execution_count": 181,
     "metadata": {},
     "output_type": "execute_result"
    }
   ],
   "source": [
    "np.concatenate((x,y),axis=1) # column concatenate"
   ]
  },
  {
   "cell_type": "code",
   "execution_count": 182,
   "id": "094891bb-4061-40a5-b9fd-ab0813adfa73",
   "metadata": {},
   "outputs": [],
   "source": [
    "# row concatination doesn't work as there are tthe same number of columns in the rows of x and y however colum wise does work because both have 3 rows in each column"
   ]
  },
  {
   "cell_type": "code",
   "execution_count": 183,
   "id": "00b77b67-5c1d-4267-b078-b938b91d5af0",
   "metadata": {},
   "outputs": [],
   "source": [
    "a = np.arange(9).reshape(3,3)"
   ]
  },
  {
   "cell_type": "code",
   "execution_count": 184,
   "id": "573ce16b-fcd8-460a-ba9e-08e98538b546",
   "metadata": {},
   "outputs": [
    {
     "data": {
      "text/plain": [
       "array([[0, 1, 2],\n",
       "       [3, 4, 5],\n",
       "       [6, 7, 8]])"
      ]
     },
     "execution_count": 184,
     "metadata": {},
     "output_type": "execute_result"
    }
   ],
   "source": [
    "a"
   ]
  },
  {
   "cell_type": "code",
   "execution_count": 185,
   "id": "6bdf53ab-c6b5-4f46-99c1-cbaea679d59a",
   "metadata": {},
   "outputs": [],
   "source": [
    "b= np.arange(10,19).reshape(3,3)"
   ]
  },
  {
   "cell_type": "code",
   "execution_count": 186,
   "id": "4bbf0f9b-e1d8-4e5a-827d-9acb09735d01",
   "metadata": {},
   "outputs": [
    {
     "data": {
      "text/plain": [
       "array([[10, 11, 12],\n",
       "       [13, 14, 15],\n",
       "       [16, 17, 18]])"
      ]
     },
     "execution_count": 186,
     "metadata": {},
     "output_type": "execute_result"
    }
   ],
   "source": [
    "b"
   ]
  },
  {
   "cell_type": "code",
   "execution_count": 187,
   "id": "53d4ebe2-8adb-4f7f-8372-3f552a3d6dc7",
   "metadata": {},
   "outputs": [
    {
     "data": {
      "text/plain": [
       "array([[ 0,  1,  2],\n",
       "       [ 3,  4,  5],\n",
       "       [ 6,  7,  8],\n",
       "       [10, 11, 12],\n",
       "       [13, 14, 15],\n",
       "       [16, 17, 18]])"
      ]
     },
     "execution_count": 187,
     "metadata": {},
     "output_type": "execute_result"
    }
   ],
   "source": [
    "np.concatenate((a,b),axis=0) # row concatentation"
   ]
  },
  {
   "cell_type": "code",
   "execution_count": 188,
   "id": "96a55fea-129c-4755-ab21-0b037864ec88",
   "metadata": {},
   "outputs": [
    {
     "data": {
      "text/plain": [
       "array([[0, 1, 2, 0, 1],\n",
       "       [3, 4, 5, 2, 3],\n",
       "       [6, 7, 8, 4, 5]])"
      ]
     },
     "execution_count": 188,
     "metadata": {},
     "output_type": "execute_result"
    }
   ],
   "source": [
    "np.hstack((x,y))"
   ]
  },
  {
   "cell_type": "code",
   "execution_count": 189,
   "id": "6ef83e3e-aa38-4891-9968-86e96ed17134",
   "metadata": {},
   "outputs": [
    {
     "data": {
      "text/plain": [
       "array([[ 0,  1,  2],\n",
       "       [ 3,  4,  5],\n",
       "       [ 6,  7,  8],\n",
       "       [10, 11, 12],\n",
       "       [13, 14, 15],\n",
       "       [16, 17, 18]])"
      ]
     },
     "execution_count": 189,
     "metadata": {},
     "output_type": "execute_result"
    }
   ],
   "source": [
    "np.vstack((a,b))"
   ]
  },
  {
   "cell_type": "code",
   "execution_count": null,
   "id": "e73b5655-c1a1-4b2c-a027-f2b917db8c5d",
   "metadata": {},
   "outputs": [],
   "source": []
  }
 ],
 "metadata": {
  "kernelspec": {
   "display_name": "Python 3 (ipykernel)",
   "language": "python",
   "name": "python3"
  },
  "language_info": {
   "codemirror_mode": {
    "name": "ipython",
    "version": 3
   },
   "file_extension": ".py",
   "mimetype": "text/x-python",
   "name": "python",
   "nbconvert_exporter": "python",
   "pygments_lexer": "ipython3",
   "version": "3.12.3"
  }
 },
 "nbformat": 4,
 "nbformat_minor": 5
}
