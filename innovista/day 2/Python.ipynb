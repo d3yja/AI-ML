{
 "cells": [
  {
   "cell_type": "code",
   "execution_count": 1,
   "id": "8f7c5d05-25ce-45d4-ae97-7d7d4feb6180",
   "metadata": {},
   "outputs": [],
   "source": [
    "x = 10"
   ]
  },
  {
   "cell_type": "code",
   "execution_count": 3,
   "id": "35f0af86-c9ac-4185-a5c6-8e7725ff050d",
   "metadata": {},
   "outputs": [],
   "source": [
    "x = 1.9"
   ]
  },
  {
   "cell_type": "code",
   "execution_count": 5,
   "id": "2c2ad6fd-43af-4910-a94c-c608905bc595",
   "metadata": {},
   "outputs": [
    {
     "data": {
      "text/plain": [
       "2"
      ]
     },
     "execution_count": 5,
     "metadata": {},
     "output_type": "execute_result"
    }
   ],
   "source": [
    "round(x)"
   ]
  },
  {
   "cell_type": "code",
   "execution_count": 7,
   "id": "e0b28d8c-95b6-4a41-be7f-f3648ab3051b",
   "metadata": {},
   "outputs": [
    {
     "data": {
      "text/plain": [
       "1"
      ]
     },
     "execution_count": 7,
     "metadata": {},
     "output_type": "execute_result"
    }
   ],
   "source": [
    "round(1.3)"
   ]
  },
  {
   "cell_type": "code",
   "execution_count": 9,
   "id": "7267ecca-38f0-4ee4-be02-a7241cb19faa",
   "metadata": {},
   "outputs": [],
   "source": [
    "x = \"Deep learning\""
   ]
  },
  {
   "cell_type": "code",
   "execution_count": 11,
   "id": "510036fb-7bcb-4718-9e95-2a98f49c1312",
   "metadata": {},
   "outputs": [
    {
     "data": {
      "text/plain": [
       "'l'"
      ]
     },
     "execution_count": 11,
     "metadata": {},
     "output_type": "execute_result"
    }
   ],
   "source": [
    "x[5]"
   ]
  },
  {
   "cell_type": "code",
   "execution_count": 13,
   "id": "99967c7a-e1d9-4248-8e05-306ee46373fe",
   "metadata": {},
   "outputs": [
    {
     "data": {
      "text/plain": [
       "'learning'"
      ]
     },
     "execution_count": 13,
     "metadata": {},
     "output_type": "execute_result"
    }
   ],
   "source": [
    "x[5:]"
   ]
  },
  {
   "cell_type": "code",
   "execution_count": 15,
   "id": "25d94aa5-e680-41d0-948f-ab5c8aea0fb8",
   "metadata": {},
   "outputs": [
    {
     "data": {
      "text/plain": [
       "'g'"
      ]
     },
     "execution_count": 15,
     "metadata": {},
     "output_type": "execute_result"
    }
   ],
   "source": [
    "x[-1]"
   ]
  },
  {
   "cell_type": "code",
   "execution_count": 17,
   "id": "f0478302-a017-4012-b58a-680b5902539a",
   "metadata": {},
   "outputs": [
    {
     "data": {
      "text/plain": [
       "'learning'"
      ]
     },
     "execution_count": 17,
     "metadata": {},
     "output_type": "execute_result"
    }
   ],
   "source": [
    "x[5:]"
   ]
  },
  {
   "cell_type": "code",
   "execution_count": 19,
   "id": "072fda63-006b-4a8c-aed6-ea5a869d8ba8",
   "metadata": {},
   "outputs": [
    {
     "data": {
      "text/plain": [
       "'l'"
      ]
     },
     "execution_count": 19,
     "metadata": {},
     "output_type": "execute_result"
    }
   ],
   "source": [
    "x[-8]"
   ]
  },
  {
   "cell_type": "code",
   "execution_count": 21,
   "id": "28483ba2-185e-4a0c-9223-caaee0aa60db",
   "metadata": {},
   "outputs": [
    {
     "data": {
      "text/plain": [
       "True"
      ]
     },
     "execution_count": 21,
     "metadata": {},
     "output_type": "execute_result"
    }
   ],
   "source": [
    "5 == 5"
   ]
  },
  {
   "cell_type": "code",
   "execution_count": 23,
   "id": "22d3823f-3af6-4425-8596-d0e911b138e6",
   "metadata": {},
   "outputs": [
    {
     "data": {
      "text/plain": [
       "False"
      ]
     },
     "execution_count": 23,
     "metadata": {},
     "output_type": "execute_result"
    }
   ],
   "source": [
    "5 != 5"
   ]
  },
  {
   "cell_type": "code",
   "execution_count": 25,
   "id": "021a66da-3dd1-4aee-b308-31eaea2cc640",
   "metadata": {},
   "outputs": [
    {
     "data": {
      "text/plain": [
       "False"
      ]
     },
     "execution_count": 25,
     "metadata": {},
     "output_type": "execute_result"
    }
   ],
   "source": [
    "45 >= 66"
   ]
  },
  {
   "cell_type": "code",
   "execution_count": 27,
   "id": "0a83727a-846c-4674-9abb-6c9c2f1313e3",
   "metadata": {},
   "outputs": [
    {
     "data": {
      "text/plain": [
       "True"
      ]
     },
     "execution_count": 27,
     "metadata": {},
     "output_type": "execute_result"
    }
   ],
   "source": [
    "100 != 50"
   ]
  },
  {
   "cell_type": "code",
   "execution_count": 29,
   "id": "a691dd07-a5a5-45b7-b3da-c63bf342b3b3",
   "metadata": {},
   "outputs": [
    {
     "name": "stderr",
     "output_type": "stream",
     "text": [
      "<>:1: SyntaxWarning: \"is not\" with 'int' literal. Did you mean \"!=\"?\n",
      "<>:1: SyntaxWarning: \"is not\" with 'int' literal. Did you mean \"!=\"?\n",
      "C:\\Users\\oskha\\AppData\\Local\\Temp\\ipykernel_14692\\1620732563.py:1: SyntaxWarning: \"is not\" with 'int' literal. Did you mean \"!=\"?\n",
      "  100 is not 50\n"
     ]
    },
    {
     "data": {
      "text/plain": [
       "True"
      ]
     },
     "execution_count": 29,
     "metadata": {},
     "output_type": "execute_result"
    }
   ],
   "source": [
    "100 is not 50"
   ]
  },
  {
   "cell_type": "code",
   "execution_count": 31,
   "id": "94d76478-3b1c-40f5-b33f-33fc582f1b52",
   "metadata": {},
   "outputs": [
    {
     "name": "stderr",
     "output_type": "stream",
     "text": [
      "<>:1: SyntaxWarning: \"is\" with 'int' literal. Did you mean \"==\"?\n",
      "<>:1: SyntaxWarning: \"is\" with 'int' literal. Did you mean \"==\"?\n",
      "C:\\Users\\oskha\\AppData\\Local\\Temp\\ipykernel_14692\\3731129776.py:1: SyntaxWarning: \"is\" with 'int' literal. Did you mean \"==\"?\n",
      "  100 is 50\n"
     ]
    },
    {
     "data": {
      "text/plain": [
       "False"
      ]
     },
     "execution_count": 31,
     "metadata": {},
     "output_type": "execute_result"
    }
   ],
   "source": [
    "100 is 50"
   ]
  },
  {
   "cell_type": "code",
   "execution_count": 33,
   "id": "723d61c3-b31b-4f67-bea4-9a917a9e4086",
   "metadata": {},
   "outputs": [
    {
     "data": {
      "text/plain": [
       "False"
      ]
     },
     "execution_count": 33,
     "metadata": {},
     "output_type": "execute_result"
    }
   ],
   "source": [
    "not True and False or False"
   ]
  },
  {
   "cell_type": "code",
   "execution_count": 35,
   "id": "df7616bd-7b34-42fc-b372-e286e98314a9",
   "metadata": {},
   "outputs": [
    {
     "data": {
      "text/plain": [
       "True"
      ]
     },
     "execution_count": 35,
     "metadata": {},
     "output_type": "execute_result"
    }
   ],
   "source": [
    "True and not True or True"
   ]
  },
  {
   "cell_type": "markdown",
   "id": "aa9c9c5b-25fc-44c8-8a6e-bb8e1be75d3d",
   "metadata": {},
   "source": [
    "## If, else, elif"
   ]
  },
  {
   "cell_type": "code",
   "execution_count": 44,
   "id": "f1f0a373-8ed4-40f8-8d8e-4424bce371fa",
   "metadata": {},
   "outputs": [
    {
     "name": "stdout",
     "output_type": "stream",
     "text": [
      "10\n",
      "second if\n"
     ]
    }
   ],
   "source": [
    "x = 10\n",
    "y = 25\n",
    "\n",
    "if x > 3 and y > 13:\n",
    "    print(x)\n",
    "if x<=3 or y >=13:\n",
    "    print('second if')"
   ]
  },
  {
   "cell_type": "code",
   "execution_count": 48,
   "id": "6b14138e-1d41-48a1-9e40-bf2f29a27f81",
   "metadata": {},
   "outputs": [
    {
     "name": "stdout",
     "output_type": "stream",
     "text": [
      "else\n"
     ]
    }
   ],
   "source": [
    "if x<=3 or y <=13:\n",
    "    print(x)\n",
    "else:\n",
    "    print('else')"
   ]
  },
  {
   "cell_type": "code",
   "execution_count": 50,
   "id": "9400da69-d176-4c10-8575-30ace220f4fb",
   "metadata": {},
   "outputs": [
    {
     "name": "stdout",
     "output_type": "stream",
     "text": [
      "yes\n"
     ]
    }
   ],
   "source": [
    "if x<=3 or y <=13:\n",
    "    print(x)\n",
    "elif x>3:\n",
    "    print('yes')\n",
    "else:\n",
    "    print('else')"
   ]
  },
  {
   "cell_type": "code",
   "execution_count": 52,
   "id": "4c7cd6c5-c3e7-4618-893d-a227e9341633",
   "metadata": {},
   "outputs": [
    {
     "name": "stdout",
     "output_type": "stream",
     "text": [
      "True condition\n"
     ]
    }
   ],
   "source": [
    "if True:\n",
    "    print('True condition')"
   ]
  },
  {
   "cell_type": "code",
   "execution_count": 54,
   "id": "92324658-b32e-4d88-8297-0e175c954eac",
   "metadata": {},
   "outputs": [],
   "source": [
    "if False:\n",
    "    print('True condition')"
   ]
  },
  {
   "cell_type": "markdown",
   "id": "2391ba14-5f97-4a12-9e59-8dff1efa4949",
   "metadata": {},
   "source": [
    "## Functions"
   ]
  },
  {
   "cell_type": "code",
   "execution_count": 57,
   "id": "6c2ffbc2-303c-4eba-bcb0-fbbb83f39321",
   "metadata": {},
   "outputs": [],
   "source": [
    "def func():\n",
    "    print(\"This is a function\")"
   ]
  },
  {
   "cell_type": "code",
   "execution_count": 59,
   "id": "42feacf5-125e-4318-9220-c4a6e0dcc56e",
   "metadata": {},
   "outputs": [
    {
     "name": "stdout",
     "output_type": "stream",
     "text": [
      "This is a function\n"
     ]
    }
   ],
   "source": [
    "func()"
   ]
  },
  {
   "cell_type": "code",
   "execution_count": 63,
   "id": "5e0f0166-8fac-481e-b655-5dac53267eda",
   "metadata": {},
   "outputs": [
    {
     "data": {
      "text/plain": [
       "12"
      ]
     },
     "execution_count": 63,
     "metadata": {},
     "output_type": "execute_result"
    }
   ],
   "source": [
    "def multiply(x):\n",
    "    result = x * 3\n",
    "    return result\n",
    "multiply(4)"
   ]
  },
  {
   "cell_type": "code",
   "execution_count": 65,
   "id": "03aefc39-7102-4f7c-b1ef-3e68c7a1c58f",
   "metadata": {},
   "outputs": [
    {
     "data": {
      "text/plain": [
       "44"
      ]
     },
     "execution_count": 65,
     "metadata": {},
     "output_type": "execute_result"
    }
   ],
   "source": [
    "max(3,44, -2)"
   ]
  },
  {
   "cell_type": "code",
   "execution_count": 67,
   "id": "a46f2dfd-0f42-4967-850a-ec4a7958e648",
   "metadata": {},
   "outputs": [
    {
     "data": {
      "text/plain": [
       "-2"
      ]
     },
     "execution_count": 67,
     "metadata": {},
     "output_type": "execute_result"
    }
   ],
   "source": [
    "min(3,44, -2)"
   ]
  },
  {
   "cell_type": "code",
   "execution_count": 69,
   "id": "c563da4c-f2f2-4205-bd09-3336ca1c3c7b",
   "metadata": {},
   "outputs": [
    {
     "data": {
      "text/plain": [
       "5"
      ]
     },
     "execution_count": 69,
     "metadata": {},
     "output_type": "execute_result"
    }
   ],
   "source": [
    "abs(-5)"
   ]
  },
  {
   "cell_type": "markdown",
   "id": "ba64a073-b620-43e8-b4b1-95673f7e074d",
   "metadata": {},
   "source": [
    "## Lists"
   ]
  },
  {
   "cell_type": "code",
   "execution_count": 73,
   "id": "35c276ef-e5f5-4808-a041-cf7a39b2c8b7",
   "metadata": {},
   "outputs": [
    {
     "data": {
      "text/plain": [
       "[22, 9.8, 'Ahmad']"
      ]
     },
     "execution_count": 73,
     "metadata": {},
     "output_type": "execute_result"
    }
   ],
   "source": [
    "ls = [22, 9.8, 'Ahmad']\n",
    "ls"
   ]
  },
  {
   "cell_type": "code",
   "execution_count": 75,
   "id": "cf39b2ca-c85d-4e6d-893a-e8c8ec1d32a6",
   "metadata": {},
   "outputs": [
    {
     "data": {
      "text/plain": [
       "'Ahmad'"
      ]
     },
     "execution_count": 75,
     "metadata": {},
     "output_type": "execute_result"
    }
   ],
   "source": [
    "ls[2]"
   ]
  },
  {
   "cell_type": "code",
   "execution_count": 77,
   "id": "1c57a01d-b166-40c6-8a74-12935be1884b",
   "metadata": {},
   "outputs": [
    {
     "data": {
      "text/plain": [
       "9.8"
      ]
     },
     "execution_count": 77,
     "metadata": {},
     "output_type": "execute_result"
    }
   ],
   "source": [
    "ls[1]"
   ]
  },
  {
   "cell_type": "code",
   "execution_count": 79,
   "id": "eaa37b22-fa96-47e6-aadf-b74fab7e8467",
   "metadata": {},
   "outputs": [
    {
     "data": {
      "text/plain": [
       "[22]"
      ]
     },
     "execution_count": 79,
     "metadata": {},
     "output_type": "execute_result"
    }
   ],
   "source": [
    "ls[0:1]"
   ]
  },
  {
   "cell_type": "code",
   "execution_count": 81,
   "id": "2a68eabe-7c56-4ece-b6f2-7c6984f9e448",
   "metadata": {},
   "outputs": [],
   "source": [
    "ls.append(35)"
   ]
  },
  {
   "cell_type": "code",
   "execution_count": 83,
   "id": "90d521dc-1438-4307-9d14-d2b5927f3cb0",
   "metadata": {},
   "outputs": [
    {
     "data": {
      "text/plain": [
       "[22, 9.8, 'Ahmad', 35]"
      ]
     },
     "execution_count": 83,
     "metadata": {},
     "output_type": "execute_result"
    }
   ],
   "source": [
    "ls"
   ]
  },
  {
   "cell_type": "code",
   "execution_count": 85,
   "id": "31599fa5-2ed8-4c3b-9f3f-9bc2b4a25e58",
   "metadata": {},
   "outputs": [
    {
     "data": {
      "text/plain": [
       "4"
      ]
     },
     "execution_count": 85,
     "metadata": {},
     "output_type": "execute_result"
    }
   ],
   "source": [
    "len(ls)"
   ]
  },
  {
   "cell_type": "markdown",
   "id": "19b462ee-b5cf-4796-be9d-4109b4307d5c",
   "metadata": {},
   "source": [
    "## Some useful functions"
   ]
  },
  {
   "cell_type": "code",
   "execution_count": 90,
   "id": "45e51b48-609f-4272-b382-61e1e42c4992",
   "metadata": {},
   "outputs": [
    {
     "data": {
      "text/plain": [
       "[\"'Innovista'\", \" 'Islambad'\", \" '40'\"]"
      ]
     },
     "execution_count": 90,
     "metadata": {},
     "output_type": "execute_result"
    }
   ],
   "source": [
    "\"'Innovista', 'Islambad', '40'\".split(',')"
   ]
  },
  {
   "cell_type": "code",
   "execution_count": 92,
   "id": "4fd12fec-25b0-494b-835f-acdacaa8e268",
   "metadata": {},
   "outputs": [
    {
     "data": {
      "text/plain": [
       "16"
      ]
     },
     "execution_count": 92,
     "metadata": {},
     "output_type": "execute_result"
    }
   ],
   "source": [
    "ls2 = [2,5,3,6]\n",
    "sum(ls2)"
   ]
  },
  {
   "cell_type": "code",
   "execution_count": 94,
   "id": "e4c0fbae-08ab-4f98-9bfd-534d36e0ec97",
   "metadata": {},
   "outputs": [
    {
     "data": {
      "text/plain": [
       "1"
      ]
     },
     "execution_count": 94,
     "metadata": {},
     "output_type": "execute_result"
    }
   ],
   "source": [
    "ls2.index(5)"
   ]
  },
  {
   "cell_type": "code",
   "execution_count": 98,
   "id": "e7832768-6960-4330-a131-82b99423bd7b",
   "metadata": {},
   "outputs": [],
   "source": [
    "ls3 = [ls,ls2]"
   ]
  },
  {
   "cell_type": "code",
   "execution_count": 100,
   "id": "164e0005-e0b7-4777-a4ca-ee21a7b7b7e6",
   "metadata": {},
   "outputs": [
    {
     "data": {
      "text/plain": [
       "[[22, 9.8, 'Ahmad', 35], [2, 5, 3, 6]]"
      ]
     },
     "execution_count": 100,
     "metadata": {},
     "output_type": "execute_result"
    }
   ],
   "source": [
    "ls3"
   ]
  },
  {
   "cell_type": "code",
   "execution_count": 137,
   "id": "b95d65ad-16ca-4ad5-b9be-d14760d49152",
   "metadata": {},
   "outputs": [],
   "source": [
    "ls.extend(ls2)"
   ]
  },
  {
   "cell_type": "code",
   "execution_count": 143,
   "id": "84af8156-091d-48f9-b8b3-72493c98e4e5",
   "metadata": {},
   "outputs": [
    {
     "data": {
      "text/plain": [
       "[22, 9.8, 'Ahmad', 35, 2, 3, 5, 6]"
      ]
     },
     "execution_count": 143,
     "metadata": {},
     "output_type": "execute_result"
    }
   ],
   "source": [
    "ls"
   ]
  },
  {
   "cell_type": "code",
   "execution_count": 102,
   "id": "400baf27-5009-4aa5-a34a-f86bcd41d5c3",
   "metadata": {},
   "outputs": [
    {
     "data": {
      "text/plain": [
       "6"
      ]
     },
     "execution_count": 102,
     "metadata": {},
     "output_type": "execute_result"
    }
   ],
   "source": [
    "ls3[1][-1]"
   ]
  },
  {
   "cell_type": "code",
   "execution_count": 104,
   "id": "1fa5eede-ef27-42bf-9695-9224e87200be",
   "metadata": {},
   "outputs": [
    {
     "data": {
      "text/plain": [
       "[2, 5, 3, 6]"
      ]
     },
     "execution_count": 104,
     "metadata": {},
     "output_type": "execute_result"
    }
   ],
   "source": [
    "ls2"
   ]
  },
  {
   "cell_type": "code",
   "execution_count": 106,
   "id": "c78ac110-8f8d-4667-b057-c33c801a4594",
   "metadata": {},
   "outputs": [],
   "source": [
    "ls2.sort()"
   ]
  },
  {
   "cell_type": "code",
   "execution_count": 108,
   "id": "376289f6-74c9-4280-8bbf-32519e5b1323",
   "metadata": {},
   "outputs": [
    {
     "data": {
      "text/plain": [
       "[2, 3, 5, 6]"
      ]
     },
     "execution_count": 108,
     "metadata": {},
     "output_type": "execute_result"
    }
   ],
   "source": [
    "ls2"
   ]
  },
  {
   "cell_type": "code",
   "execution_count": 110,
   "id": "834ba355-d102-4aee-b0d8-8abac5d83adc",
   "metadata": {},
   "outputs": [
    {
     "data": {
      "text/plain": [
       "range(0, 10)"
      ]
     },
     "execution_count": 110,
     "metadata": {},
     "output_type": "execute_result"
    }
   ],
   "source": [
    "range(10)"
   ]
  },
  {
   "cell_type": "code",
   "execution_count": 112,
   "id": "467f53be-b392-4ec0-b0b3-ce710cde089a",
   "metadata": {},
   "outputs": [],
   "source": [
    "x = range(10)"
   ]
  },
  {
   "cell_type": "markdown",
   "id": "af1f6b8a-dab9-4c15-b44f-bb79098e0d14",
   "metadata": {},
   "source": [
    "Tuples"
   ]
  },
  {
   "cell_type": "code",
   "execution_count": 128,
   "id": "57e4af6a-5522-4d28-8ef0-23e16fe3ef2b",
   "metadata": {},
   "outputs": [
    {
     "data": {
      "text/plain": [
       "(2, 3, 4, 5)"
      ]
     },
     "execution_count": 128,
     "metadata": {},
     "output_type": "execute_result"
    }
   ],
   "source": [
    "t = (2,3,4,5)\n",
    "t"
   ]
  },
  {
   "cell_type": "code",
   "execution_count": 130,
   "id": "511fc5d0-e3a8-4dcb-9b48-ae6e3808006e",
   "metadata": {},
   "outputs": [
    {
     "data": {
      "text/plain": [
       "2"
      ]
     },
     "execution_count": 130,
     "metadata": {},
     "output_type": "execute_result"
    }
   ],
   "source": [
    "t[0]\n"
   ]
  },
  {
   "cell_type": "code",
   "execution_count": 132,
   "id": "ea7e1cf3-5f48-4a8e-9b1d-32cd4916a631",
   "metadata": {},
   "outputs": [
    {
     "data": {
      "text/plain": [
       "5"
      ]
     },
     "execution_count": 132,
     "metadata": {},
     "output_type": "execute_result"
    }
   ],
   "source": [
    "t[-1]"
   ]
  },
  {
   "cell_type": "markdown",
   "id": "1ca376b7-6b98-4780-9664-ad32a5d034bf",
   "metadata": {},
   "source": [
    "## Dictionaries"
   ]
  },
  {
   "cell_type": "code",
   "execution_count": 145,
   "id": "9eff2860-f1bd-4e22-bc00-110a5b0e5f05",
   "metadata": {},
   "outputs": [],
   "source": [
    "xdict = {'House_1': '20k', 'House_2': '30k', 'House_3': '40k'}\n"
   ]
  },
  {
   "cell_type": "code",
   "execution_count": 147,
   "id": "55ad2b44-e483-4fdf-a574-b50974237247",
   "metadata": {},
   "outputs": [
    {
     "data": {
      "text/plain": [
       "{'House_1': '20k', 'House_2': '30k', 'House_3': '40k'}"
      ]
     },
     "execution_count": 147,
     "metadata": {},
     "output_type": "execute_result"
    }
   ],
   "source": [
    "xdict"
   ]
  },
  {
   "cell_type": "code",
   "execution_count": 149,
   "id": "d94151f3-b1ff-4166-9bc9-d66af48b89b4",
   "metadata": {},
   "outputs": [
    {
     "data": {
      "text/plain": [
       "'20k'"
      ]
     },
     "execution_count": 149,
     "metadata": {},
     "output_type": "execute_result"
    }
   ],
   "source": [
    "xdict['House_1']"
   ]
  },
  {
   "cell_type": "code",
   "execution_count": 151,
   "id": "c877bf3d-b3f2-4b0f-adeb-9bc0cf34c91b",
   "metadata": {},
   "outputs": [],
   "source": [
    "xdict['House_4'] = '50k'"
   ]
  },
  {
   "cell_type": "code",
   "execution_count": 153,
   "id": "ce2f4b7e-7d28-41f7-829c-f4c806d56fb7",
   "metadata": {},
   "outputs": [
    {
     "data": {
      "text/plain": [
       "{'House_1': '20k', 'House_2': '30k', 'House_3': '40k', 'House_4': '50k'}"
      ]
     },
     "execution_count": 153,
     "metadata": {},
     "output_type": "execute_result"
    }
   ],
   "source": [
    "xdict"
   ]
  },
  {
   "cell_type": "code",
   "execution_count": 159,
   "id": "a7f4bec1-da04-4ba5-9bcd-4391e7821f83",
   "metadata": {},
   "outputs": [],
   "source": [
    "ydict = {}\n",
    "ydict['another dict'] = {'House_1': '200k', 'House_2': '100k'}"
   ]
  },
  {
   "cell_type": "code",
   "execution_count": 165,
   "id": "e387631d-b8d1-4621-b248-cf2f0371be0c",
   "metadata": {},
   "outputs": [],
   "source": [
    "xdict['another dict'] = {'House_1': '200k', 'House_2': '100k'}"
   ]
  },
  {
   "cell_type": "code",
   "execution_count": 167,
   "id": "27fff0cf-b0d9-40cd-86b2-5f328a00de6b",
   "metadata": {},
   "outputs": [
    {
     "data": {
      "text/plain": [
       "{'House_1': '20k',\n",
       " 'House_2': '30k',\n",
       " 'House_3': '40k',\n",
       " 'House_4': '50k',\n",
       " 'another dict': {'House_1': '200k', 'House_2': '100k'}}"
      ]
     },
     "execution_count": 167,
     "metadata": {},
     "output_type": "execute_result"
    }
   ],
   "source": [
    "xdict"
   ]
  },
  {
   "cell_type": "code",
   "execution_count": 169,
   "id": "dc47288a-cab3-44ab-8a58-10d09a71e602",
   "metadata": {},
   "outputs": [
    {
     "ename": "KeyError",
     "evalue": "0",
     "output_type": "error",
     "traceback": [
      "\u001b[1;31m---------------------------------------------------------------------------\u001b[0m",
      "\u001b[1;31mKeyError\u001b[0m                                  Traceback (most recent call last)",
      "Cell \u001b[1;32mIn[169], line 1\u001b[0m\n\u001b[1;32m----> 1\u001b[0m xdict[\u001b[38;5;241m0\u001b[39m]\n",
      "\u001b[1;31mKeyError\u001b[0m: 0"
     ]
    }
   ],
   "source": [
    "xdict[0]"
   ]
  },
  {
   "cell_type": "code",
   "execution_count": 171,
   "id": "661cdbbb-74eb-4a41-9bc7-5b780c57a6bd",
   "metadata": {},
   "outputs": [
    {
     "data": {
      "text/plain": [
       "{'House_1': '20k',\n",
       " 'House_2': '30k',\n",
       " 'House_3': '40k',\n",
       " 'House_4': '50k',\n",
       " 'another dict': {'House_1': '200k', 'House_2': '100k'}}"
      ]
     },
     "execution_count": 171,
     "metadata": {},
     "output_type": "execute_result"
    }
   ],
   "source": [
    "xdict"
   ]
  },
  {
   "cell_type": "code",
   "execution_count": 173,
   "id": "e9f81d40-f166-466c-8a78-afc6cf2439a6",
   "metadata": {},
   "outputs": [
    {
     "data": {
      "text/plain": [
       "{'another dict': {'House_1': '200k', 'House_2': '100k'}}"
      ]
     },
     "execution_count": 173,
     "metadata": {},
     "output_type": "execute_result"
    }
   ],
   "source": [
    "ydict"
   ]
  },
  {
   "cell_type": "code",
   "execution_count": 177,
   "id": "fd197524-ccd4-43e1-9002-83cf6b6e89e9",
   "metadata": {},
   "outputs": [
    {
     "name": "stdout",
     "output_type": "stream",
     "text": [
      "20k\n",
      "30k\n",
      "40k\n",
      "50k\n",
      "{'House_1': '200k', 'House_2': '100k'}\n"
     ]
    }
   ],
   "source": [
    "for i in xdict:\n",
    "    print (xdict[i])"
   ]
  },
  {
   "cell_type": "code",
   "execution_count": 179,
   "id": "0a09ff6d-a987-4c62-ac71-ef3babd5c262",
   "metadata": {},
   "outputs": [
    {
     "name": "stdout",
     "output_type": "stream",
     "text": [
      "House_1\n",
      "House_2\n",
      "House_3\n",
      "House_4\n",
      "another dict\n"
     ]
    }
   ],
   "source": [
    "for i in xdict:\n",
    "    print (i)"
   ]
  },
  {
   "cell_type": "code",
   "execution_count": 182,
   "id": "295070d7-c417-4f42-8816-381cac7141ab",
   "metadata": {
    "scrolled": true
   },
   "outputs": [
    {
     "name": "stdout",
     "output_type": "stream",
     "text": [
      "0\n",
      "1\n",
      "2\n",
      "3\n",
      "4\n"
     ]
    }
   ],
   "source": [
    "x = 0\n",
    "while(x<5):\n",
    "    print(x)\n",
    "    x+=1"
   ]
  },
  {
   "cell_type": "code",
   "execution_count": 186,
   "id": "a7e82678-51cb-4b7a-988d-54be463abc1c",
   "metadata": {},
   "outputs": [
    {
     "name": "stdout",
     "output_type": "stream",
     "text": [
      "1 2\n",
      "1 4\n",
      "1 6\n",
      "1 8\n",
      "3 2\n",
      "3 4\n",
      "3 6\n",
      "3 8\n",
      "5 2\n",
      "5 4\n",
      "5 6\n",
      "5 8\n",
      "7 2\n",
      "7 4\n",
      "7 6\n",
      "7 8\n"
     ]
    }
   ],
   "source": [
    "ls = [1,3,5,7]\n",
    "ls1 = [2,4,6,8]\n",
    "for i in ls:\n",
    "    for j in ls1:\n",
    "        print(i,j)\n"
   ]
  },
  {
   "cell_type": "code",
   "execution_count": 188,
   "id": "9a2a716f-2c6f-42d5-acc7-aa79080f48c2",
   "metadata": {},
   "outputs": [
    {
     "ename": "NameError",
     "evalue": "name 'sqrt' is not defined",
     "output_type": "error",
     "traceback": [
      "\u001b[1;31m---------------------------------------------------------------------------\u001b[0m",
      "\u001b[1;31mNameError\u001b[0m                                 Traceback (most recent call last)",
      "Cell \u001b[1;32mIn[188], line 1\u001b[0m\n\u001b[1;32m----> 1\u001b[0m sqrt(\u001b[38;5;241m25\u001b[39m)\n",
      "\u001b[1;31mNameError\u001b[0m: name 'sqrt' is not defined"
     ]
    }
   ],
   "source": [
    "sqrt(25)"
   ]
  },
  {
   "cell_type": "code",
   "execution_count": 190,
   "id": "2020d033-5e15-4f74-bb65-bec34da4c8fe",
   "metadata": {},
   "outputs": [
    {
     "ename": "NameError",
     "evalue": "name 'sqrt' is not defined",
     "output_type": "error",
     "traceback": [
      "\u001b[1;31m---------------------------------------------------------------------------\u001b[0m",
      "\u001b[1;31mNameError\u001b[0m                                 Traceback (most recent call last)",
      "Cell \u001b[1;32mIn[190], line 2\u001b[0m\n\u001b[0;32m      1\u001b[0m \u001b[38;5;28;01mimport\u001b[39;00m \u001b[38;5;21;01mmath\u001b[39;00m\n\u001b[1;32m----> 2\u001b[0m sqrt(\u001b[38;5;241m25\u001b[39m)\n",
      "\u001b[1;31mNameError\u001b[0m: name 'sqrt' is not defined"
     ]
    }
   ],
   "source": [
    "import math\n",
    "sqrt(25)"
   ]
  },
  {
   "cell_type": "code",
   "execution_count": 192,
   "id": "9e2a764a-0317-478c-b1da-225deeb20a2d",
   "metadata": {},
   "outputs": [
    {
     "data": {
      "text/plain": [
       "5.0"
      ]
     },
     "execution_count": 192,
     "metadata": {},
     "output_type": "execute_result"
    }
   ],
   "source": [
    "import math\n",
    "math.sqrt(25)"
   ]
  },
  {
   "cell_type": "code",
   "execution_count": 194,
   "id": "f3bb9bd7-3085-4567-a6c3-db17d8cf4303",
   "metadata": {},
   "outputs": [
    {
     "data": {
      "text/plain": [
       "5.0"
      ]
     },
     "execution_count": 194,
     "metadata": {},
     "output_type": "execute_result"
    }
   ],
   "source": [
    "import math as m\n",
    "m.sqrt(25)"
   ]
  },
  {
   "cell_type": "code",
   "execution_count": 198,
   "id": "425a7f80-b685-45c6-855b-1119000d8826",
   "metadata": {},
   "outputs": [
    {
     "data": {
      "text/plain": [
       "array([1, 2, 3, 4])"
      ]
     },
     "execution_count": 198,
     "metadata": {},
     "output_type": "execute_result"
    }
   ],
   "source": [
    "import numpy as np\n",
    "np.array([1,2,3,4])"
   ]
  },
  {
   "cell_type": "code",
   "execution_count": 200,
   "id": "13e0b128-47cc-4fa1-a9c2-9aa69e4e1598",
   "metadata": {},
   "outputs": [
    {
     "data": {
      "text/plain": [
       "5.0"
      ]
     },
     "execution_count": 200,
     "metadata": {},
     "output_type": "execute_result"
    }
   ],
   "source": [
    "from math import sqrt\n",
    "sqrt(25)"
   ]
  },
  {
   "cell_type": "code",
   "execution_count": 204,
   "id": "1229b556-17ec-42ca-bfb2-fcfd871af876",
   "metadata": {},
   "outputs": [
    {
     "data": {
      "text/plain": [
       "5.0"
      ]
     },
     "execution_count": 204,
     "metadata": {},
     "output_type": "execute_result"
    }
   ],
   "source": [
    "from math import sqrt as sq\n",
    "sq(25)"
   ]
  },
  {
   "cell_type": "code",
   "execution_count": 206,
   "id": "8488f9e8-f727-472c-990c-d56615381ff8",
   "metadata": {},
   "outputs": [
    {
     "ename": "TypeError",
     "evalue": "math.sqrt() takes exactly one argument (0 given)",
     "output_type": "error",
     "traceback": [
      "\u001b[1;31m---------------------------------------------------------------------------\u001b[0m",
      "\u001b[1;31mTypeError\u001b[0m                                 Traceback (most recent call last)",
      "Cell \u001b[1;32mIn[206], line 1\u001b[0m\n\u001b[1;32m----> 1\u001b[0m sqrt()\n",
      "\u001b[1;31mTypeError\u001b[0m: math.sqrt() takes exactly one argument (0 given)"
     ]
    }
   ],
   "source": [
    "sqrt()"
   ]
  },
  {
   "cell_type": "code",
   "execution_count": 1,
   "id": "f99390e2-16c5-4eda-838b-8fb27e4c9e3e",
   "metadata": {},
   "outputs": [
    {
     "ename": "NameError",
     "evalue": "name 'sqrt' is not defined",
     "output_type": "error",
     "traceback": [
      "\u001b[1;31m---------------------------------------------------------------------------\u001b[0m",
      "\u001b[1;31mNameError\u001b[0m                                 Traceback (most recent call last)",
      "Cell \u001b[1;32mIn[1], line 1\u001b[0m\n\u001b[1;32m----> 1\u001b[0m sqrt()\n",
      "\u001b[1;31mNameError\u001b[0m: name 'sqrt' is not defined"
     ]
    }
   ],
   "source": [
    "sqrt()"
   ]
  },
  {
   "cell_type": "code",
   "execution_count": 3,
   "id": "7f66a878-29e8-4d11-a9fe-aa9b9369080f",
   "metadata": {},
   "outputs": [
    {
     "ename": "NameError",
     "evalue": "name 'sqrt' is not defined",
     "output_type": "error",
     "traceback": [
      "\u001b[1;31m---------------------------------------------------------------------------\u001b[0m",
      "\u001b[1;31mNameError\u001b[0m                                 Traceback (most recent call last)",
      "Cell \u001b[1;32mIn[3], line 2\u001b[0m\n\u001b[0;32m      1\u001b[0m \u001b[38;5;28;01mimport\u001b[39;00m \u001b[38;5;21;01mmath\u001b[39;00m\n\u001b[1;32m----> 2\u001b[0m sqrt(\u001b[38;5;241m25\u001b[39m)\n",
      "\u001b[1;31mNameError\u001b[0m: name 'sqrt' is not defined"
     ]
    }
   ],
   "source": [
    "import math\n",
    "sqrt(25)"
   ]
  },
  {
   "cell_type": "code",
   "execution_count": 5,
   "id": "2418d1d6-1110-4a1a-bedf-952d0de2f6a3",
   "metadata": {},
   "outputs": [
    {
     "data": {
      "text/plain": [
       "5.0"
      ]
     },
     "execution_count": 5,
     "metadata": {},
     "output_type": "execute_result"
    }
   ],
   "source": [
    "from math import *\n",
    "sqrt(25)"
   ]
  },
  {
   "cell_type": "code",
   "execution_count": 7,
   "id": "407906e1-d74f-4008-b4b7-67f76d55477d",
   "metadata": {},
   "outputs": [
    {
     "data": {
      "text/plain": [
       "25"
      ]
     },
     "execution_count": 7,
     "metadata": {},
     "output_type": "execute_result"
    }
   ],
   "source": [
    "floor(25)"
   ]
  },
  {
   "cell_type": "code",
   "execution_count": 9,
   "id": "5cd13dd3-2203-4992-bfa8-af9283f5247a",
   "metadata": {},
   "outputs": [
    {
     "data": {
      "text/plain": [
       "5"
      ]
     },
     "execution_count": 9,
     "metadata": {},
     "output_type": "execute_result"
    }
   ],
   "source": [
    "floor(5.5)"
   ]
  },
  {
   "cell_type": "code",
   "execution_count": 13,
   "id": "fe0d186d-c7cf-437b-9d4d-7099f95aa916",
   "metadata": {},
   "outputs": [
    {
     "data": {
      "text/plain": [
       "5.0"
      ]
     },
     "execution_count": 13,
     "metadata": {},
     "output_type": "execute_result"
    }
   ],
   "source": [
    "'''\n",
    "Standard way of importing packages in python\n",
    "is given as below:\n",
    "'''\n",
    "\n",
    "import math as m\n",
    "# Calculating square root\n",
    "m.sqrt(25)"
   ]
  },
  {
   "cell_type": "code",
   "execution_count": 18,
   "id": "76a00ba6-1332-4e62-a8bc-0fb05fede305",
   "metadata": {},
   "outputs": [
    {
     "ename": "ModuleNotFoundError",
     "evalue": "No module named 'torch'",
     "output_type": "error",
     "traceback": [
      "\u001b[1;31m---------------------------------------------------------------------------\u001b[0m",
      "\u001b[1;31mModuleNotFoundError\u001b[0m                       Traceback (most recent call last)",
      "Cell \u001b[1;32mIn[18], line 1\u001b[0m\n\u001b[1;32m----> 1\u001b[0m \u001b[38;5;28;01mimport\u001b[39;00m \u001b[38;5;21;01mtorch\u001b[39;00m\n",
      "\u001b[1;31mModuleNotFoundError\u001b[0m: No module named 'torch'"
     ]
    }
   ],
   "source": [
    "import torch"
   ]
  },
  {
   "cell_type": "markdown",
   "id": "2b12cba5-28aa-4358-b9db-28db036c2d71",
   "metadata": {},
   "source": [
    "## Classes"
   ]
  },
  {
   "cell_type": "code",
   "execution_count": 32,
   "id": "abd13271-3af2-44e0-bea4-e19c70cd1df9",
   "metadata": {},
   "outputs": [],
   "source": [
    "class Car():\n",
    "    def __init__(self, make, model, year):\n",
    "        self.make = make\n",
    "        self.model = model\n",
    "        self.year = year\n",
    "    def getcarname(self):\n",
    "        print(f\"The name of the car is: {self.make}\")"
   ]
  },
  {
   "cell_type": "code",
   "execution_count": 34,
   "id": "ce682342-4183-40da-9dd6-8f4b0af39b16",
   "metadata": {},
   "outputs": [],
   "source": [
    "car1 = Car('Honda', 'City', 2024)"
   ]
  },
  {
   "cell_type": "code",
   "execution_count": 38,
   "id": "fe49bc98-39b6-4b0f-bbfe-981b2aa768b1",
   "metadata": {},
   "outputs": [
    {
     "name": "stdout",
     "output_type": "stream",
     "text": [
      "The name of the car is: Honda\n"
     ]
    }
   ],
   "source": [
    "car1.getcarname()"
   ]
  },
  {
   "cell_type": "code",
   "execution_count": null,
   "id": "f4856686-e250-43d6-be9c-9adc39d83f5d",
   "metadata": {},
   "outputs": [],
   "source": []
  }
 ],
 "metadata": {
  "kernelspec": {
   "display_name": "Python 3 (ipykernel)",
   "language": "python",
   "name": "python3"
  },
  "language_info": {
   "codemirror_mode": {
    "name": "ipython",
    "version": 3
   },
   "file_extension": ".py",
   "mimetype": "text/x-python",
   "name": "python",
   "nbconvert_exporter": "python",
   "pygments_lexer": "ipython3",
   "version": "3.12.7"
  }
 },
 "nbformat": 4,
 "nbformat_minor": 5
}
