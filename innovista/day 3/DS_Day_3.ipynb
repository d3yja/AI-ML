{
 "cells": [
  {
   "cell_type": "markdown",
   "id": "24f716ef-7aac-425e-8e98-831434c6c423",
   "metadata": {},
   "source": [
    "## .copy()"
   ]
  },
  {
   "cell_type": "code",
   "execution_count": 7,
   "id": "32326c8e-b7f2-435d-a70e-1c9316a7831e",
   "metadata": {},
   "outputs": [
    {
     "name": "stdout",
     "output_type": "stream",
     "text": [
      "python_copy\n",
      "python_copy\n",
      "tython_coty\n",
      "python_copy\n"
     ]
    }
   ],
   "source": [
    "x = 'python_copy'\n",
    "print(x)\n",
    "y = x\n",
    "print(y)\n",
    "y = y.replace('p','t')\n",
    "print(y)\n",
    "print(x)"
   ]
  },
  {
   "cell_type": "code",
   "execution_count": 8,
   "id": "82f2f899-7b70-4742-a4b2-02e733032441",
   "metadata": {},
   "outputs": [
    {
     "name": "stdout",
     "output_type": "stream",
     "text": [
      "['p', 'y', 't', 'h', 'o', 'n', '_', 'c', 'o', 'p', 'y']\n",
      "['p', 'y', 't', 'h', 'o', 'n', '_', 'c', 'o', 'p', 'y']\n",
      "ls1: ['p', 'y', 't', 'h', 'o', 'n', '_', 'c', 'o', 'p', 'y', '99']\n",
      "ls2: ['p', 'y', 't', 'h', 'o', 'n', '_', 'c', 'o', 'p', 'y', '99']\n"
     ]
    }
   ],
   "source": [
    "ls1 = list(x)\n",
    "ls2 = ls1\n",
    "print(ls1)\n",
    "print(ls2)\n",
    "ls2.append('99')\n",
    "print('ls1:', ls1)\n",
    "print('ls2:', ls2)"
   ]
  },
  {
   "cell_type": "code",
   "execution_count": 9,
   "id": "f0a533ee-5816-4b7d-b1f0-c6ff74612097",
   "metadata": {},
   "outputs": [
    {
     "ename": "FileNotFoundError",
     "evalue": "[Errno 2] No such file or directory: 'Lending-company.csv'",
     "output_type": "error",
     "traceback": [
      "\u001b[1;31m---------------------------------------------------------------------------\u001b[0m",
      "\u001b[1;31mFileNotFoundError\u001b[0m                         Traceback (most recent call last)",
      "Cell \u001b[1;32mIn[9], line 3\u001b[0m\n\u001b[0;32m      1\u001b[0m \u001b[38;5;28;01mimport\u001b[39;00m \u001b[38;5;21;01mpandas\u001b[39;00m \u001b[38;5;28;01mas\u001b[39;00m \u001b[38;5;21;01mpd\u001b[39;00m\n\u001b[1;32m----> 3\u001b[0m data \u001b[38;5;241m=\u001b[39m pd\u001b[38;5;241m.\u001b[39mread_csv(\u001b[38;5;124m'\u001b[39m\u001b[38;5;124mLending-company.csv\u001b[39m\u001b[38;5;124m'\u001b[39m, index_col \u001b[38;5;241m=\u001b[39m \u001b[38;5;124m'\u001b[39m\u001b[38;5;124mLoanID\u001b[39m\u001b[38;5;124m'\u001b[39m)\n\u001b[0;32m      4\u001b[0m lending_co_data \u001b[38;5;241m=\u001b[39m data\u001b[38;5;241m.\u001b[39mcopy()\n",
      "File \u001b[1;32m~\\anaconda3\\Lib\\site-packages\\pandas\\io\\parsers\\readers.py:1026\u001b[0m, in \u001b[0;36mread_csv\u001b[1;34m(filepath_or_buffer, sep, delimiter, header, names, index_col, usecols, dtype, engine, converters, true_values, false_values, skipinitialspace, skiprows, skipfooter, nrows, na_values, keep_default_na, na_filter, verbose, skip_blank_lines, parse_dates, infer_datetime_format, keep_date_col, date_parser, date_format, dayfirst, cache_dates, iterator, chunksize, compression, thousands, decimal, lineterminator, quotechar, quoting, doublequote, escapechar, comment, encoding, encoding_errors, dialect, on_bad_lines, delim_whitespace, low_memory, memory_map, float_precision, storage_options, dtype_backend)\u001b[0m\n\u001b[0;32m   1013\u001b[0m kwds_defaults \u001b[38;5;241m=\u001b[39m _refine_defaults_read(\n\u001b[0;32m   1014\u001b[0m     dialect,\n\u001b[0;32m   1015\u001b[0m     delimiter,\n\u001b[1;32m   (...)\u001b[0m\n\u001b[0;32m   1022\u001b[0m     dtype_backend\u001b[38;5;241m=\u001b[39mdtype_backend,\n\u001b[0;32m   1023\u001b[0m )\n\u001b[0;32m   1024\u001b[0m kwds\u001b[38;5;241m.\u001b[39mupdate(kwds_defaults)\n\u001b[1;32m-> 1026\u001b[0m \u001b[38;5;28;01mreturn\u001b[39;00m _read(filepath_or_buffer, kwds)\n",
      "File \u001b[1;32m~\\anaconda3\\Lib\\site-packages\\pandas\\io\\parsers\\readers.py:620\u001b[0m, in \u001b[0;36m_read\u001b[1;34m(filepath_or_buffer, kwds)\u001b[0m\n\u001b[0;32m    617\u001b[0m _validate_names(kwds\u001b[38;5;241m.\u001b[39mget(\u001b[38;5;124m\"\u001b[39m\u001b[38;5;124mnames\u001b[39m\u001b[38;5;124m\"\u001b[39m, \u001b[38;5;28;01mNone\u001b[39;00m))\n\u001b[0;32m    619\u001b[0m \u001b[38;5;66;03m# Create the parser.\u001b[39;00m\n\u001b[1;32m--> 620\u001b[0m parser \u001b[38;5;241m=\u001b[39m TextFileReader(filepath_or_buffer, \u001b[38;5;241m*\u001b[39m\u001b[38;5;241m*\u001b[39mkwds)\n\u001b[0;32m    622\u001b[0m \u001b[38;5;28;01mif\u001b[39;00m chunksize \u001b[38;5;129;01mor\u001b[39;00m iterator:\n\u001b[0;32m    623\u001b[0m     \u001b[38;5;28;01mreturn\u001b[39;00m parser\n",
      "File \u001b[1;32m~\\anaconda3\\Lib\\site-packages\\pandas\\io\\parsers\\readers.py:1620\u001b[0m, in \u001b[0;36mTextFileReader.__init__\u001b[1;34m(self, f, engine, **kwds)\u001b[0m\n\u001b[0;32m   1617\u001b[0m     \u001b[38;5;28mself\u001b[39m\u001b[38;5;241m.\u001b[39moptions[\u001b[38;5;124m\"\u001b[39m\u001b[38;5;124mhas_index_names\u001b[39m\u001b[38;5;124m\"\u001b[39m] \u001b[38;5;241m=\u001b[39m kwds[\u001b[38;5;124m\"\u001b[39m\u001b[38;5;124mhas_index_names\u001b[39m\u001b[38;5;124m\"\u001b[39m]\n\u001b[0;32m   1619\u001b[0m \u001b[38;5;28mself\u001b[39m\u001b[38;5;241m.\u001b[39mhandles: IOHandles \u001b[38;5;241m|\u001b[39m \u001b[38;5;28;01mNone\u001b[39;00m \u001b[38;5;241m=\u001b[39m \u001b[38;5;28;01mNone\u001b[39;00m\n\u001b[1;32m-> 1620\u001b[0m \u001b[38;5;28mself\u001b[39m\u001b[38;5;241m.\u001b[39m_engine \u001b[38;5;241m=\u001b[39m \u001b[38;5;28mself\u001b[39m\u001b[38;5;241m.\u001b[39m_make_engine(f, \u001b[38;5;28mself\u001b[39m\u001b[38;5;241m.\u001b[39mengine)\n",
      "File \u001b[1;32m~\\anaconda3\\Lib\\site-packages\\pandas\\io\\parsers\\readers.py:1880\u001b[0m, in \u001b[0;36mTextFileReader._make_engine\u001b[1;34m(self, f, engine)\u001b[0m\n\u001b[0;32m   1878\u001b[0m     \u001b[38;5;28;01mif\u001b[39;00m \u001b[38;5;124m\"\u001b[39m\u001b[38;5;124mb\u001b[39m\u001b[38;5;124m\"\u001b[39m \u001b[38;5;129;01mnot\u001b[39;00m \u001b[38;5;129;01min\u001b[39;00m mode:\n\u001b[0;32m   1879\u001b[0m         mode \u001b[38;5;241m+\u001b[39m\u001b[38;5;241m=\u001b[39m \u001b[38;5;124m\"\u001b[39m\u001b[38;5;124mb\u001b[39m\u001b[38;5;124m\"\u001b[39m\n\u001b[1;32m-> 1880\u001b[0m \u001b[38;5;28mself\u001b[39m\u001b[38;5;241m.\u001b[39mhandles \u001b[38;5;241m=\u001b[39m get_handle(\n\u001b[0;32m   1881\u001b[0m     f,\n\u001b[0;32m   1882\u001b[0m     mode,\n\u001b[0;32m   1883\u001b[0m     encoding\u001b[38;5;241m=\u001b[39m\u001b[38;5;28mself\u001b[39m\u001b[38;5;241m.\u001b[39moptions\u001b[38;5;241m.\u001b[39mget(\u001b[38;5;124m\"\u001b[39m\u001b[38;5;124mencoding\u001b[39m\u001b[38;5;124m\"\u001b[39m, \u001b[38;5;28;01mNone\u001b[39;00m),\n\u001b[0;32m   1884\u001b[0m     compression\u001b[38;5;241m=\u001b[39m\u001b[38;5;28mself\u001b[39m\u001b[38;5;241m.\u001b[39moptions\u001b[38;5;241m.\u001b[39mget(\u001b[38;5;124m\"\u001b[39m\u001b[38;5;124mcompression\u001b[39m\u001b[38;5;124m\"\u001b[39m, \u001b[38;5;28;01mNone\u001b[39;00m),\n\u001b[0;32m   1885\u001b[0m     memory_map\u001b[38;5;241m=\u001b[39m\u001b[38;5;28mself\u001b[39m\u001b[38;5;241m.\u001b[39moptions\u001b[38;5;241m.\u001b[39mget(\u001b[38;5;124m\"\u001b[39m\u001b[38;5;124mmemory_map\u001b[39m\u001b[38;5;124m\"\u001b[39m, \u001b[38;5;28;01mFalse\u001b[39;00m),\n\u001b[0;32m   1886\u001b[0m     is_text\u001b[38;5;241m=\u001b[39mis_text,\n\u001b[0;32m   1887\u001b[0m     errors\u001b[38;5;241m=\u001b[39m\u001b[38;5;28mself\u001b[39m\u001b[38;5;241m.\u001b[39moptions\u001b[38;5;241m.\u001b[39mget(\u001b[38;5;124m\"\u001b[39m\u001b[38;5;124mencoding_errors\u001b[39m\u001b[38;5;124m\"\u001b[39m, \u001b[38;5;124m\"\u001b[39m\u001b[38;5;124mstrict\u001b[39m\u001b[38;5;124m\"\u001b[39m),\n\u001b[0;32m   1888\u001b[0m     storage_options\u001b[38;5;241m=\u001b[39m\u001b[38;5;28mself\u001b[39m\u001b[38;5;241m.\u001b[39moptions\u001b[38;5;241m.\u001b[39mget(\u001b[38;5;124m\"\u001b[39m\u001b[38;5;124mstorage_options\u001b[39m\u001b[38;5;124m\"\u001b[39m, \u001b[38;5;28;01mNone\u001b[39;00m),\n\u001b[0;32m   1889\u001b[0m )\n\u001b[0;32m   1890\u001b[0m \u001b[38;5;28;01massert\u001b[39;00m \u001b[38;5;28mself\u001b[39m\u001b[38;5;241m.\u001b[39mhandles \u001b[38;5;129;01mis\u001b[39;00m \u001b[38;5;129;01mnot\u001b[39;00m \u001b[38;5;28;01mNone\u001b[39;00m\n\u001b[0;32m   1891\u001b[0m f \u001b[38;5;241m=\u001b[39m \u001b[38;5;28mself\u001b[39m\u001b[38;5;241m.\u001b[39mhandles\u001b[38;5;241m.\u001b[39mhandle\n",
      "File \u001b[1;32m~\\anaconda3\\Lib\\site-packages\\pandas\\io\\common.py:873\u001b[0m, in \u001b[0;36mget_handle\u001b[1;34m(path_or_buf, mode, encoding, compression, memory_map, is_text, errors, storage_options)\u001b[0m\n\u001b[0;32m    868\u001b[0m \u001b[38;5;28;01melif\u001b[39;00m \u001b[38;5;28misinstance\u001b[39m(handle, \u001b[38;5;28mstr\u001b[39m):\n\u001b[0;32m    869\u001b[0m     \u001b[38;5;66;03m# Check whether the filename is to be opened in binary mode.\u001b[39;00m\n\u001b[0;32m    870\u001b[0m     \u001b[38;5;66;03m# Binary mode does not support 'encoding' and 'newline'.\u001b[39;00m\n\u001b[0;32m    871\u001b[0m     \u001b[38;5;28;01mif\u001b[39;00m ioargs\u001b[38;5;241m.\u001b[39mencoding \u001b[38;5;129;01mand\u001b[39;00m \u001b[38;5;124m\"\u001b[39m\u001b[38;5;124mb\u001b[39m\u001b[38;5;124m\"\u001b[39m \u001b[38;5;129;01mnot\u001b[39;00m \u001b[38;5;129;01min\u001b[39;00m ioargs\u001b[38;5;241m.\u001b[39mmode:\n\u001b[0;32m    872\u001b[0m         \u001b[38;5;66;03m# Encoding\u001b[39;00m\n\u001b[1;32m--> 873\u001b[0m         handle \u001b[38;5;241m=\u001b[39m \u001b[38;5;28mopen\u001b[39m(\n\u001b[0;32m    874\u001b[0m             handle,\n\u001b[0;32m    875\u001b[0m             ioargs\u001b[38;5;241m.\u001b[39mmode,\n\u001b[0;32m    876\u001b[0m             encoding\u001b[38;5;241m=\u001b[39mioargs\u001b[38;5;241m.\u001b[39mencoding,\n\u001b[0;32m    877\u001b[0m             errors\u001b[38;5;241m=\u001b[39merrors,\n\u001b[0;32m    878\u001b[0m             newline\u001b[38;5;241m=\u001b[39m\u001b[38;5;124m\"\u001b[39m\u001b[38;5;124m\"\u001b[39m,\n\u001b[0;32m    879\u001b[0m         )\n\u001b[0;32m    880\u001b[0m     \u001b[38;5;28;01melse\u001b[39;00m:\n\u001b[0;32m    881\u001b[0m         \u001b[38;5;66;03m# Binary mode\u001b[39;00m\n\u001b[0;32m    882\u001b[0m         handle \u001b[38;5;241m=\u001b[39m \u001b[38;5;28mopen\u001b[39m(handle, ioargs\u001b[38;5;241m.\u001b[39mmode)\n",
      "\u001b[1;31mFileNotFoundError\u001b[0m: [Errno 2] No such file or directory: 'Lending-company.csv'"
     ]
    }
   ],
   "source": [
    "import pandas as pd\n",
    "\n",
    "data = pd.read_csv('Lending-company.csv', index_col = 'LoanID')\n",
    "lending_co_data = data.copy()"
   ]
  },
  {
   "cell_type": "code",
   "execution_count": null,
   "id": "f16df965-aa9d-44bd-91f4-7b9b6b8f3738",
   "metadata": {},
   "outputs": [],
   "source": [
    "'''\n",
    "Sr.no,Name,Gender,Age\n",
    "1,\"Aslam\",male,22\n",
    "2,\"Sara\",female,38\n",
    "3,\"Ahmad\",male,26\n",
    "4,\"Amna\",female,35\n",
    "'''\n",
    "\n",
    "df = pd.read_csv('test.csv')\n",
    "df"
   ]
  },
  {
   "cell_type": "code",
   "execution_count": null,
   "id": "94b13386-fd13-43e3-bd8c-7e9c1e3ce394",
   "metadata": {},
   "outputs": [],
   "source": [
    "import json\n",
    "# help(json.dump)\n",
    "df.to_json('test.json')"
   ]
  },
  {
   "cell_type": "code",
   "execution_count": null,
   "id": "c3593811-d1b9-4373-b5ac-daac12410232",
   "metadata": {},
   "outputs": [],
   "source": [
    "data = '''\n",
    "Sr.no,Name,Gender,Age\n",
    "1,\"Aslam\",male,22\n",
    "2,\"Sara\",female,38\n",
    "3,\"Ahmad\",male,26\n",
    "4,\"Amna\",female,35\n",
    "'''\n",
    "data"
   ]
  },
  {
   "cell_type": "code",
   "execution_count": null,
   "id": "3c659e11-665d-4509-a645-2e962575dcdf",
   "metadata": {},
   "outputs": [],
   "source": [
    "print(data)"
   ]
  },
  {
   "cell_type": "code",
   "execution_count": null,
   "id": "9d218c7e-76bd-4628-9af5-476d31cc70aa",
   "metadata": {
    "scrolled": true
   },
   "outputs": [],
   "source": [
    "df = pd.read_csv(data)"
   ]
  },
  {
   "cell_type": "code",
   "execution_count": null,
   "id": "a7da8f6d-fc3f-4581-ad17-8fe288a1c5dc",
   "metadata": {},
   "outputs": [],
   "source": [
    "from io import StringIO\n",
    "obj = StringIO(data)\n",
    "pd.read_csv(obj)"
   ]
  },
  {
   "cell_type": "markdown",
   "id": "4eda7197-9cb2-4c18-bbfb-a7c841bcf3aa",
   "metadata": {},
   "source": [
    "## Handling Missing Data"
   ]
  },
  {
   "cell_type": "code",
   "execution_count": null,
   "id": "2836c65c-3009-40a4-9d3d-f70fce957c81",
   "metadata": {},
   "outputs": [],
   "source": [
    "from numpy import nan\n",
    "nan"
   ]
  },
  {
   "cell_type": "code",
   "execution_count": null,
   "id": "b7e03ecc-2c8f-4b65-b217-4a738e14f4ab",
   "metadata": {},
   "outputs": [],
   "source": [
    "data = '''\n",
    "Sr.no,Name,Gender,Age\n",
    "1,\"NA\",male,22\n",
    "2,\"Sara\",NA,38\n",
    "3,\"Ahmad\",male,26\n",
    "4,\"Amna\",female,35\n",
    "'''\n",
    "\n",
    "obj = StringIO(data)\n",
    "df = pd.read_csv(obj)\n",
    "df"
   ]
  },
  {
   "cell_type": "code",
   "execution_count": null,
   "id": "366b2dd4-f18d-45aa-874a-a340b1433951",
   "metadata": {},
   "outputs": [],
   "source": [
    "sentinels = {'Gender':['male', 'NA']}\n",
    "df = pd.read_csv('test.csv', na_values=sentinels)"
   ]
  },
  {
   "cell_type": "code",
   "execution_count": null,
   "id": "ea4983da-17b3-4c53-b781-fbb1e8bb5f9d",
   "metadata": {},
   "outputs": [],
   "source": [
    "df"
   ]
  },
  {
   "cell_type": "code",
   "execution_count": null,
   "id": "8c55b6bf-cf62-48df-a30d-cb8d4495106b",
   "metadata": {},
   "outputs": [],
   "source": [
    "df.dropna(how='any')"
   ]
  },
  {
   "cell_type": "code",
   "execution_count": null,
   "id": "5726f2af-6c7b-4730-95bc-6043628fe799",
   "metadata": {},
   "outputs": [],
   "source": [
    "df.dropna(how='all')"
   ]
  },
  {
   "cell_type": "code",
   "execution_count": null,
   "id": "aa403d85-ebd6-40a1-b0be-5b8320d923a9",
   "metadata": {},
   "outputs": [],
   "source": [
    "df.fillna('M')"
   ]
  },
  {
   "cell_type": "code",
   "execution_count": null,
   "id": "8cc832b8-208a-47b4-8c07-173da4ef64a3",
   "metadata": {},
   "outputs": [],
   "source": [
    "pd.read_json('test.json')"
   ]
  },
  {
   "cell_type": "code",
   "execution_count": null,
   "id": "79a586be-59bf-48fb-b22a-c5b4ff7bd062",
   "metadata": {},
   "outputs": [],
   "source": [
    "data = {\"Sr.no\":{\"0\":1,\"1\":2,\"2\":3,\"3\":4},\"Name\":{\"0\":\"Aslam\",\"1\":\"Sara\",\"2\":\"Ahmad\",\"3\":\"Amna\"},\"Gender\":{\"0\":\"male\",\"1\":\"female\",\"2\":\"male\",\"3\":\"female\"},\"Age\":{\"0\":22,\"1\":38,\"2\":26,\"3\":35}}\n",
    "df1 = pd.DataFrame(data)"
   ]
  },
  {
   "cell_type": "code",
   "execution_count": null,
   "id": "2baa0c45-ac7e-49b9-b1cd-dcbe8a594df2",
   "metadata": {},
   "outputs": [],
   "source": [
    "df1"
   ]
  },
  {
   "cell_type": "code",
   "execution_count": null,
   "id": "0e3cb69b-cf4c-4260-807e-29051883b3d9",
   "metadata": {},
   "outputs": [],
   "source": [
    "lending_co_data.describe()"
   ]
  },
  {
   "cell_type": "code",
   "execution_count": null,
   "id": "57a9ea9d-ab74-4147-beb6-9eb4701f43f6",
   "metadata": {
    "scrolled": true
   },
   "outputs": [],
   "source": [
    "lending_co_data"
   ]
  },
  {
   "cell_type": "markdown",
   "id": "6e8b01dd-ed3c-41b3-b8b5-70386693ba2c",
   "metadata": {},
   "source": [
    "## unique and nunique()"
   ]
  },
  {
   "cell_type": "code",
   "execution_count": null,
   "id": "557448e3-0cfe-4793-8b67-5fcbdedc6277",
   "metadata": {},
   "outputs": [],
   "source": [
    "lending_co_data.nunique()"
   ]
  },
  {
   "cell_type": "code",
   "execution_count": null,
   "id": "14459cce-04ab-43be-a288-614ac0b0bb97",
   "metadata": {},
   "outputs": [],
   "source": [
    "type(lending_co_data['Deposit'])"
   ]
  },
  {
   "cell_type": "code",
   "execution_count": null,
   "id": "69527004-f951-4dea-8000-306ac265d182",
   "metadata": {},
   "outputs": [],
   "source": [
    "lending_co_data['Deposit'].unique()"
   ]
  },
  {
   "cell_type": "markdown",
   "id": "b5a19192-dca6-4779-9d75-e0e51a68e574",
   "metadata": {},
   "source": [
    "## Modifying"
   ]
  },
  {
   "cell_type": "code",
   "execution_count": null,
   "id": "25cb5d94-1342-4ff3-98b5-a0ca2e78ebdf",
   "metadata": {},
   "outputs": [],
   "source": [
    "df = pd.DataFrame([['a','b'], ['c', 'd'], ['e', 'f'], ['g', 'h']], columns=['col1','col2'])\n",
    "df"
   ]
  },
  {
   "cell_type": "code",
   "execution_count": null,
   "id": "d2caa796-d358-4e47-88be-9ef765566e9d",
   "metadata": {},
   "outputs": [],
   "source": [
    "df.iloc[2:4,1] = ['x','y']\n",
    "df"
   ]
  },
  {
   "cell_type": "code",
   "execution_count": null,
   "id": "0eb4ac64-c9bd-466a-bca0-e93b61fbb513",
   "metadata": {},
   "outputs": [],
   "source": [
    "df.iloc[2:4,1] = ['x']\n",
    "df"
   ]
  },
  {
   "cell_type": "code",
   "execution_count": null,
   "id": "45d64913-6224-4633-9065-0267a1b43167",
   "metadata": {
    "scrolled": true
   },
   "outputs": [],
   "source": [
    "print(df)"
   ]
  },
  {
   "cell_type": "code",
   "execution_count": null,
   "id": "1f13f337-84eb-4d13-94bb-28f07b5720c3",
   "metadata": {},
   "outputs": [],
   "source": [
    "df = df.rename(index={2:'r2', 3:'r3'})"
   ]
  },
  {
   "cell_type": "code",
   "execution_count": null,
   "id": "1c4b255e-b014-41d6-9fca-c453a70df5b5",
   "metadata": {},
   "outputs": [],
   "source": [
    "df"
   ]
  },
  {
   "cell_type": "code",
   "execution_count": null,
   "id": "75020a60-f708-4ea4-a0b1-df77313709dd",
   "metadata": {},
   "outputs": [],
   "source": [
    "df.loc['r2']"
   ]
  },
  {
   "cell_type": "code",
   "execution_count": null,
   "id": "98d99c48-b293-468c-a7b3-f8706f298610",
   "metadata": {},
   "outputs": [],
   "source": [
    "help(df.insert)"
   ]
  },
  {
   "cell_type": "code",
   "execution_count": null,
   "id": "32c72348-eda3-48f5-994a-e3d3106f827b",
   "metadata": {},
   "outputs": [],
   "source": [
    "df = df.insert(2, 'col3', [99,99,99,99])"
   ]
  },
  {
   "cell_type": "code",
   "execution_count": null,
   "id": "ee33905d-feb3-434e-ae5d-530fe3a301be",
   "metadata": {},
   "outputs": [],
   "source": [
    "print(df)"
   ]
  },
  {
   "cell_type": "code",
   "execution_count": null,
   "id": "d760e341-25ee-4ad1-94e1-f66626575048",
   "metadata": {},
   "outputs": [],
   "source": [
    "df = pd.DataFrame([['a','b'], ['c', 'd'], ['e', 'f'], ['g', 'h']], columns=['col1','col2'])\n",
    "df"
   ]
  },
  {
   "cell_type": "code",
   "execution_count": null,
   "id": "b9998ffd-6bd3-445a-a103-6f6660eda551",
   "metadata": {},
   "outputs": [],
   "source": [
    "df.insert(2, 'col3', [99,99,99,99])\n",
    "df"
   ]
  },
  {
   "cell_type": "code",
   "execution_count": null,
   "id": "17a7b5da-42bc-4704-a40c-622b6d06e52b",
   "metadata": {},
   "outputs": [],
   "source": [
    "help(df.drop)"
   ]
  },
  {
   "cell_type": "code",
   "execution_count": null,
   "id": "b0d9cf15-cc0b-4fbb-89e9-211f7d222711",
   "metadata": {},
   "outputs": [],
   "source": [
    "df.drop(2)"
   ]
  },
  {
   "cell_type": "code",
   "execution_count": null,
   "id": "6dc1cf56-8a4c-47eb-9cb8-f88a8345b761",
   "metadata": {},
   "outputs": [],
   "source": [
    "df.drop(2,inplace=True)\n",
    "df"
   ]
  },
  {
   "cell_type": "code",
   "execution_count": null,
   "id": "716c099a-0e32-4b2a-875c-66fbfaca6bd5",
   "metadata": {},
   "outputs": [],
   "source": [
    "df.drop(['col1'],axis=1)"
   ]
  },
  {
   "cell_type": "code",
   "execution_count": null,
   "id": "745942a4-61ed-4243-92f8-6fdaabd56d88",
   "metadata": {},
   "outputs": [],
   "source": [
    "help(df.rename)"
   ]
  },
  {
   "cell_type": "markdown",
   "id": "3247a2fc-20ef-4ff8-ab63-e94429097880",
   "metadata": {},
   "source": [
    "## Filtering"
   ]
  },
  {
   "cell_type": "code",
   "execution_count": null,
   "id": "14dfa73e-eb63-4dd4-8e84-e1f45b61c618",
   "metadata": {},
   "outputs": [],
   "source": [
    "df = pd.DataFrame([[1,2], [3, 4], [5,6], [7,8]], columns=['col1','col2'])\n",
    "df"
   ]
  },
  {
   "cell_type": "code",
   "execution_count": null,
   "id": "9c87696f-fc9c-4ed7-8ffb-ee69d30fd682",
   "metadata": {},
   "outputs": [],
   "source": [
    "df > 3"
   ]
  },
  {
   "cell_type": "code",
   "execution_count": null,
   "id": "668f9610-2deb-4622-a1a3-fad477dee01b",
   "metadata": {},
   "outputs": [],
   "source": [
    "condition = (df['col1'] > 3)\n",
    "df.loc[condition,'col2']"
   ]
  },
  {
   "cell_type": "code",
   "execution_count": null,
   "id": "6944d246-142a-4b33-bf5d-23a2410a00e9",
   "metadata": {},
   "outputs": [],
   "source": [
    "condition"
   ]
  },
  {
   "cell_type": "code",
   "execution_count": null,
   "id": "efd7c19a-1e52-4c28-a8c4-78647faeffe9",
   "metadata": {},
   "outputs": [],
   "source": [
    "type(condition)"
   ]
  },
  {
   "cell_type": "code",
   "execution_count": null,
   "id": "a1f75abf-6299-4c4a-9801-894c78a06420",
   "metadata": {},
   "outputs": [],
   "source": [
    "df = pd.DataFrame({'A': [1,3,5,7], 'B': [5,2,8,4], 'C': ['x', 'y', 'x', 'z']})\n",
    "df"
   ]
  },
  {
   "cell_type": "code",
   "execution_count": null,
   "id": "123b770a-47e3-4170-a196-36379051055f",
   "metadata": {},
   "outputs": [],
   "source": [
    "df.loc[(df['A'] > 2) & (df['B'] > 2), 'C']"
   ]
  },
  {
   "cell_type": "code",
   "execution_count": null,
   "id": "0c3a5ede-5b18-4d53-9ec2-27a923fc9567",
   "metadata": {},
   "outputs": [],
   "source": [
    "df.loc[(df['A'] > 2) & (df['B'] > 2), 'B':'C']"
   ]
  },
  {
   "cell_type": "code",
   "execution_count": null,
   "id": "fb6d1393-7cfe-44b2-a4f2-06f771181925",
   "metadata": {},
   "outputs": [],
   "source": [
    "mask = (df['A'] > 2) & (df['B'] > 2)"
   ]
  },
  {
   "cell_type": "code",
   "execution_count": null,
   "id": "68df0583-9006-4497-b31b-4c9de6f6641b",
   "metadata": {},
   "outputs": [],
   "source": [
    "mask"
   ]
  },
  {
   "cell_type": "code",
   "execution_count": null,
   "id": "556fe6ed-8dbc-4785-96a1-21c4b05dc600",
   "metadata": {},
   "outputs": [],
   "source": [
    "df[mask]"
   ]
  },
  {
   "cell_type": "code",
   "execution_count": null,
   "id": "68ef968a-0a1c-4eac-8795-1b757a521375",
   "metadata": {},
   "outputs": [],
   "source": [
    "help(df.replace)"
   ]
  },
  {
   "cell_type": "code",
   "execution_count": null,
   "id": "c40cd3c5-85fe-4b6d-9f59-b7f73ede9248",
   "metadata": {},
   "outputs": [],
   "source": [
    "import numpy as np"
   ]
  },
  {
   "cell_type": "code",
   "execution_count": null,
   "id": "cf370b58-4928-416a-9dba-e9c8c7f3286a",
   "metadata": {},
   "outputs": [],
   "source": [
    "df = pd.DataFrame({\"A\": [1.1, np.nan, 3.5, np.nan, np.nan, np.nan, 6.2, 7.9],\n",
    "                   \"B\": [0.25, np.nan, np.nan, .75, 0, np.nan, 6.2, 7.9]})"
   ]
  },
  {
   "cell_type": "code",
   "execution_count": null,
   "id": "7daedf78-3042-4043-8ce1-913cee7b677f",
   "metadata": {},
   "outputs": [],
   "source": [
    "df"
   ]
  },
  {
   "cell_type": "code",
   "execution_count": null,
   "id": "dbe4c2be-e3aa-4935-9960-62f09d1d1d12",
   "metadata": {},
   "outputs": [],
   "source": [
    "df.interpolate()"
   ]
  },
  {
   "cell_type": "code",
   "execution_count": null,
   "id": "bf36f6bb-59e1-4962-9f7b-2b3e0482b262",
   "metadata": {},
   "outputs": [],
   "source": [
    "df = pd.DataFrame({\"k1\": ['one', 'two'] * 3 + ['two']+['one'],\n",
    "                  \"k2\": [1, 1, 2, 3, 3, 4, 4, 2]})\n",
    "df"
   ]
  },
  {
   "cell_type": "code",
   "execution_count": null,
   "id": "30822e63-aa34-4c89-b652-942ddca5b526",
   "metadata": {},
   "outputs": [],
   "source": [
    "df.duplicated()"
   ]
  },
  {
   "cell_type": "code",
   "execution_count": null,
   "id": "8e8b849c-2f55-47d0-a8da-73f3f444d309",
   "metadata": {},
   "outputs": [],
   "source": [
    "type(df.duplicated())"
   ]
  },
  {
   "cell_type": "code",
   "execution_count": null,
   "id": "a82e3103-1fa2-42d0-98d3-4b3d59fa12df",
   "metadata": {},
   "outputs": [],
   "source": [
    "df.duplicated().unique()"
   ]
  },
  {
   "cell_type": "code",
   "execution_count": null,
   "id": "93b95065-dc42-43bc-a3aa-21c3c722b0f9",
   "metadata": {},
   "outputs": [],
   "source": [
    "df.drop_duplicates()"
   ]
  },
  {
   "cell_type": "code",
   "execution_count": null,
   "id": "a7927cfb-6ba9-488b-b2d3-40d3cf7e2a1e",
   "metadata": {},
   "outputs": [],
   "source": [
    "help(df.drop_duplicates)"
   ]
  },
  {
   "cell_type": "markdown",
   "id": "6e76c137-19bb-437d-9c47-3d1c0792c793",
   "metadata": {},
   "source": [
    "## Visualization"
   ]
  },
  {
   "cell_type": "code",
   "execution_count": 10,
   "id": "589b3112-970e-49c2-ba2b-4f485e052361",
   "metadata": {},
   "outputs": [
    {
     "ename": "NameError",
     "evalue": "name 'lending_co_data' is not defined",
     "output_type": "error",
     "traceback": [
      "\u001b[1;31m---------------------------------------------------------------------------\u001b[0m",
      "\u001b[1;31mNameError\u001b[0m                                 Traceback (most recent call last)",
      "Cell \u001b[1;32mIn[10], line 1\u001b[0m\n\u001b[1;32m----> 1\u001b[0m lending_co_data\u001b[38;5;241m.\u001b[39mplot()\n",
      "\u001b[1;31mNameError\u001b[0m: name 'lending_co_data' is not defined"
     ]
    }
   ],
   "source": [
    "lending_co_data.plot()"
   ]
  },
  {
   "cell_type": "code",
   "execution_count": null,
   "id": "af8f6e5a-ecc7-46e4-8fb8-90558a1d3b16",
   "metadata": {
    "scrolled": true
   },
   "outputs": [],
   "source": [
    "df = pd.DataFrame(np.random.randn(10,4), index=pd.date_range('1/1/2000', periods=10), columns=list('ABCD'))\n",
    "df.plot()"
   ]
  },
  {
   "cell_type": "code",
   "execution_count": null,
   "id": "27157254-e298-4555-93eb-9936c7ff5e61",
   "metadata": {},
   "outputs": [],
   "source": [
    "df = pd.DataFrame(np.random.rand(10,4), columns=list('ABCD'))\n",
    "print(df)\n",
    "df.plot.bar()"
   ]
  },
  {
   "cell_type": "code",
   "execution_count": null,
   "id": "1dc816ba-ef5e-415b-aed1-ba5f8c78c620",
   "metadata": {},
   "outputs": [],
   "source": [
    "df.plot.bar(ylim=0)"
   ]
  },
  {
   "cell_type": "code",
   "execution_count": null,
   "id": "f3d01e2e-4e31-424b-bc15-8a3dea044b7e",
   "metadata": {},
   "outputs": [],
   "source": [
    "df.plot.bar(stacked=True)"
   ]
  },
  {
   "cell_type": "code",
   "execution_count": null,
   "id": "d15c3f62-dfab-4cb0-8b8e-d8a4b2930cae",
   "metadata": {},
   "outputs": [],
   "source": [
    "df.plot.barh(stacked=True)"
   ]
  },
  {
   "cell_type": "code",
   "execution_count": null,
   "id": "08b17a08-b7e8-48ca-9bae-183fe09629d0",
   "metadata": {},
   "outputs": [],
   "source": [
    "df = pd.DataFrame({'a':np.random.randn(1000)+1,'b':np.random.randn(1000),'c':\n",
    "np.random.randn(1000) - 1}, columns=['a', 'b', 'c'])\n",
    "\n",
    "df.plot.hist(bins=20)"
   ]
  },
  {
   "cell_type": "code",
   "execution_count": null,
   "id": "5c6c1e8c-bf88-4dde-a653-725bf2ff1852",
   "metadata": {},
   "outputs": [],
   "source": [
    "import pandas as pd\n",
    "import numpy as np\n",
    "df = pd.DataFrame(np.random.rand(10, 5), columns=['A', 'B', 'C', 'D', 'E'])\n",
    "df.plot.box()"
   ]
  },
  {
   "cell_type": "code",
   "execution_count": null,
   "id": "cbb720ba-334f-4180-a646-de8d2543aa88",
   "metadata": {},
   "outputs": [],
   "source": [
    "df = pd.DataFrame(np.random.rand(10, 4), columns=['a', 'b', 'c', 'd'])\n",
    "df.plot.area()"
   ]
  },
  {
   "cell_type": "code",
   "execution_count": null,
   "id": "53897356-ad5d-49d2-a11e-a1a62fef82b4",
   "metadata": {},
   "outputs": [],
   "source": [
    "df = pd.DataFrame(np.random.rand(50, 4), columns=['a', 'b', 'c', 'd'])\n",
    "df.plot.scatter(x='a', y='b')"
   ]
  },
  {
   "cell_type": "code",
   "execution_count": null,
   "id": "15abaee4-4560-4776-bf80-3e65d14f012f",
   "metadata": {},
   "outputs": [],
   "source": [
    "df = pd.DataFrame(3 * np.random.rand(4), index=['a', 'b', 'c', 'd'], columns=['x'])\n",
    "df.plot.pie(subplots=True)"
   ]
  },
  {
   "cell_type": "code",
   "execution_count": null,
   "id": "bd53000d-5ada-45cc-946c-e54ec5905f69",
   "metadata": {},
   "outputs": [],
   "source": []
  }
 ],
 "metadata": {
  "kernelspec": {
   "display_name": "Python 3 (ipykernel)",
   "language": "python",
   "name": "python3"
  },
  "language_info": {
   "codemirror_mode": {
    "name": "ipython",
    "version": 3
   },
   "file_extension": ".py",
   "mimetype": "text/x-python",
   "name": "python",
   "nbconvert_exporter": "python",
   "pygments_lexer": "ipython3",
   "version": "3.12.3"
  }
 },
 "nbformat": 4,
 "nbformat_minor": 5
}
